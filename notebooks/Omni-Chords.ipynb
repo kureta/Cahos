{
 "cells": [
  {
   "cell_type": "markdown",
   "id": "9655212c-7be5-4b63-9c5c-c108ffee32e3",
   "metadata": {},
   "source": [
    "# Omni Chords - for Cahos"
   ]
  },
  {
   "cell_type": "code",
   "execution_count": 1,
   "id": "100d224e-e630-4a02-ba52-c040595c470e",
   "metadata": {},
   "outputs": [],
   "source": [
    "from collections import Counter\n",
    "from itertools import accumulate\n",
    "from math import log2\n",
    "\n",
    "import polars as pl"
   ]
  },
  {
   "cell_type": "markdown",
   "id": "5e0faec8-6b80-4dea-8510-5145f79db102",
   "metadata": {},
   "source": [
    "## Generate Omni-Chords"
   ]
  },
  {
   "cell_type": "markdown",
   "id": "e95807d2-d2a2-48b3-8ad8-8bdeb5fc3951",
   "metadata": {},
   "source": [
    "### Entropy calculations"
   ]
  },
  {
   "cell_type": "markdown",
   "id": "bd7c2900-1d47-4863-8ecc-49d1c6ff9e85",
   "metadata": {},
   "source": [
    "Using Shannon entropy. Also using \"sub-sequence entropy\" and \"sequence entropy\":\n",
    "For \"sub-sequence entropy\" we take length n sub sequences of a list and treat them as symbols,\n",
    "and calculate the entropy of that. Sequence entropy is just the sum of sub-sequence entropies of all lengths\n",
    "\n",
    "```python\n",
    "sequence = [2, 1, 2, 2, 1]\n",
    "entropy = calculate_entropy(sequence)\n",
    "# 2-length sub-sequence entropy:\n",
    "subseq_entropy = calculate_entropy([(2, 1), (1, 2), (2, 2), (2, 1)])\n",
    "```"
   ]
  },
  {
   "cell_type": "code",
   "execution_count": 2,
   "id": "1b053287-2035-43c9-a663-6e19676bedaa",
   "metadata": {},
   "outputs": [],
   "source": [
    "def calculate_entropy(sequence):\n",
    "    # Count the frequency of each element in the sequence\n",
    "    frequency = Counter(sequence)\n",
    "    total_count = len(sequence)\n",
    "\n",
    "    # Calculate the entropy\n",
    "    entropy = 0\n",
    "    for count in frequency.values():\n",
    "        probability = count / total_count\n",
    "        entropy -= probability * log2(probability)\n",
    "\n",
    "    return entropy\n",
    "\n",
    "def calculate_subseq_entropy(sequence, subsequence_length):\n",
    "    sub_seqs = []\n",
    "    for idx in range(len(sequence)-subsequence_length+1):\n",
    "        sub_seqs.append(tuple(sequence[idx:idx+subsequence_length]))\n",
    "    return calculate_entropy(sub_seqs)\n",
    "\n",
    "def calculate_sequence_entropy(sequence):\n",
    "    return sum(calculate_subseq_entropy(sequence, l) for l in range(len(sequence)+1))"
   ]
  },
  {
   "cell_type": "markdown",
   "id": "e1559af9-46b9-4300-a335-c264653b4e03",
   "metadata": {},
   "source": [
    "The Scale (more aptly chord) has a few properties of interest:\n",
    "\n",
    "- `sequence_entropy`\n",
    "- `span`: distance between the lowest and the highest note in chord\n",
    "- `inervals`: all interval types contained in the chord"
   ]
  },
  {
   "cell_type": "code",
   "execution_count": 3,
   "id": "85f92954-2e3f-4c95-8b29-a0fb58f2b4de",
   "metadata": {},
   "outputs": [],
   "source": [
    "class Scale:\n",
    "    def __init__(self, deltas):\n",
    "        self.deltas = deltas\n",
    "\n",
    "    def __repr__(self):\n",
    "        return f\"{self.deltas}\"\n",
    "\n",
    "    def __str__(self):\n",
    "        return f\"entropy: {self.sequence_entropy:.2f}, span: {self.span}, deltas: {self.deltas}\"\n",
    "\n",
    "    @property\n",
    "    def pitch_classes(self):\n",
    "        return [a % 12 for a in accumulate(self.deltas, initial=0)]\n",
    "\n",
    "    @property\n",
    "    def span(self):\n",
    "        return sum(self.deltas)\n",
    "\n",
    "    @property\n",
    "    def intervals(self):\n",
    "        return list(set(self.deltas))\n",
    "\n",
    "    @property\n",
    "    def n_intervals(self):\n",
    "        return len(set(self.deltas))\n",
    "\n",
    "    @property\n",
    "    def entropy(self):\n",
    "        return calculate_entropy(self.deltas)\n",
    "\n",
    "    @property\n",
    "    def transition_entropy(self):\n",
    "        return calculate_subseq_entropy(self.deltas, 2)\n",
    "\n",
    "    @property\n",
    "    def sequence_entropy(self):\n",
    "        return calculate_sequence_entropy(self.deltas)"
   ]
  },
  {
   "cell_type": "markdown",
   "id": "3954d713-6ec3-471c-aa8c-c2b0e24cc603",
   "metadata": {},
   "source": [
    "### Generating omni-chords subject to some constraints\n",
    "\n",
    "There are *a lot* of possible omni-chords. So, some constraints are applied during generation\n",
    "to enable early termination of the search.\n",
    "\n",
    "- `allowed_intervals`: List of intervals that an omni-chord can contain\n",
    "- `disallowed_subsequences`: Mostly to exclude chromatic clusters. No consequtive minor deconds, etc.\n",
    "- `disallowed_beginnings`: Usually don't want narrow intervals between the bass and the next note.\n",
    "- `max_span`: Maximum distance between the lowest and higihest note for an interval."
   ]
  },
  {
   "cell_type": "code",
   "execution_count": 10,
   "id": "e9a129cd-9c84-40c3-b4ff-303e5c7641a1",
   "metadata": {},
   "outputs": [],
   "source": [
    "def contains_subsequence(main_list, sub_list):\n",
    "    for idx in range(len(main_list) - len(sub_list) + 1):\n",
    "        if main_list[idx: idx + len(sub_list)] == sub_list:\n",
    "            return True\n",
    "    return False\n",
    "\n",
    "def get_scales(allowed_intervals, disallowed_subsequences=[], disallowed_beginnings=[], max_span=88):\n",
    "    result = []\n",
    "    get_scales_recursive(allowed_intervals, disallowed_subsequences, disallowed_beginnings, max_span, result)\n",
    "\n",
    "    return result\n",
    "\n",
    "def get_scales_recursive(allowed_intervals, disallowed_subsequences, disallowed_beginnings, max_span, deltas_accumulator,\n",
    "                         pitch_classes=[0], deltas=[], idx=0):\n",
    "    if idx == 11:\n",
    "        deltas_accumulator.append(deltas)\n",
    "        # normal exit\n",
    "        return\n",
    "    for next_interval in allowed_intervals:\n",
    "        # early exits\n",
    "        if (idx == 0) and (next_interval in disallowed_beginnings):\n",
    "            continue\n",
    "        if sum(deltas + [next_interval]) > max_span:\n",
    "            continue\n",
    "        if any(contains_subsequence(deltas + [next_interval], dis_seq) for dis_seq in disallowed_subsequences):\n",
    "            continue\n",
    "        next_note = (pitch_classes[-1] + next_interval) % 12\n",
    "        if next_note not in pitch_classes:\n",
    "            get_scales_recursive(allowed_intervals, disallowed_subsequences, disallowed_beginnings, max_span, deltas_accumulator,\n",
    "                      pitch_classes + [next_note], deltas + [next_interval], idx + 1)"
   ]
  },
  {
   "cell_type": "code",
   "execution_count": 16,
   "id": "bf1e40c7-8fda-48a9-9718-2addb5cef2c7",
   "metadata": {},
   "outputs": [
    {
     "name": "stdout",
     "output_type": "stream",
     "text": [
      "number of scales satisfying given constraints: 16068\n"
     ]
    }
   ],
   "source": [
    "dis_subseq = [\n",
    "    [1, 2], [2, 1], [3, 1],\n",
    "    [3, 4], [4, 3],\n",
    "    [6, 1], [1, 6], [5, 1], [1, 5],\n",
    "    [1, 1], [2, 2], [3, 3], [4, 4],\n",
    "    [5, 5, 5], [6, 6, 6], [7, 7, 7]\n",
    "]\n",
    "scales = [Scale(s) for s in get_scales(\n",
    "    allowed_intervals=[1, 2, 3, 4, 5, 6, 7],\n",
    "    disallowed_subsequences=dis_subseq,\n",
    "    disallowed_beginnings=[1, 2],\n",
    "    max_span=60\n",
    ")]\n",
    "\n",
    "print(f\"number of scales satisfying given constraints: {len(scales)}\")"
   ]
  },
  {
   "cell_type": "markdown",
   "id": "19a1d0f9-7897-4ce1-9d3f-4e71d002e8c0",
   "metadata": {},
   "source": [
    "### Further filtering and sorting\n",
    "\n",
    "Can filter and/or sort by exact number of intervals, entropy, sequence entropy, span..."
   ]
  },
  {
   "cell_type": "code",
   "execution_count": 20,
   "id": "cef14f58-2097-4d8b-99a9-11770aa6e291",
   "metadata": {},
   "outputs": [
    {
     "name": "stdout",
     "output_type": "stream",
     "text": [
      "first 5 of 6 scales remaining after filtering\n",
      "entropy: 17.95, span: 51, deltas: [5, 4, 5, 5, 4, 5, 4, 5, 5, 4, 5]\n",
      "entropy: 16.30, span: 59, deltas: [5, 5, 6, 5, 6, 5, 6, 5, 6, 5, 5]\n",
      "entropy: 14.41, span: 53, deltas: [7, 1, 7, 7, 1, 7, 7, 1, 7, 7, 1]\n",
      "entropy: 14.31, span: 59, deltas: [7, 7, 1, 7, 7, 1, 7, 7, 1, 7, 7]\n",
      "entropy: 9.86, span: 57, deltas: [7, 3, 7, 3, 7, 3, 7, 3, 7, 3, 7]\n",
      "...\n"
     ]
    }
   ],
   "source": [
    "n_intervals = 2\n",
    "selection = sorted([s for s in scales if s.n_intervals == n_intervals], key=lambda x: (x.sequence_entropy, x.span), reverse=True)\n",
    "show_n = 5\n",
    "print(f\"first {min(show_n, len(selection))} of {len(selection)} scales remaining after filtering\")\n",
    "for s in selection[:show_n]:\n",
    "    print(s)\n",
    "print(\"...\")"
   ]
  },
  {
   "cell_type": "markdown",
   "id": "cd4f92d2-06b5-4aaf-82bf-8bdbc1f804f1",
   "metadata": {},
   "source": [
    "### Voice leading opportunities\n",
    "\n",
    "- Number of shared notes between two chords.\n",
    "- Number of simple swaps among moving notes (ex. 1 -> 0 and 0 -> 1)\n",
    "- Bass motion"
   ]
  },
  {
   "cell_type": "code",
   "execution_count": 7,
   "id": "993d9598-1246-42dd-8024-6840a527c38a",
   "metadata": {},
   "outputs": [],
   "source": [
    "def n_swaps(xs, ys):\n",
    "    none_matches = [(a, b) for a, b in zip (xs, ys) if a != b]\n",
    "    swaps = []\n",
    "    for item in none_matches:\n",
    "        if tuple(item[::-1]) in none_matches:\n",
    "            swaps.append(item)\n",
    "    \n",
    "    return len(swaps)\n",
    "\n",
    "def mark_changes(first, second):\n",
    "    return [int(a != b) for a, b in zip(first, second)]"
   ]
  },
  {
   "cell_type": "markdown",
   "id": "e8011aab-4ba0-4e34-aa9f-3fec61a204a2",
   "metadata": {},
   "source": [
    "### Notes\n",
    "\n",
    "Create a `VoiceLeading` class that will contain and calculate voice leading information such as:\n",
    "\n",
    "- a binary array showing changed voices\n",
    "- sequence entropy of changes indicated by that array\n",
    "- list of common notes\n",
    "- list of changed notes\n",
    "- numbers of common notes, changed notes, swaps\n",
    "- change in span\n",
    "- chord a and chord b\n",
    "- detect voice crossings\n",
    "- max jump distance of changing voices\n",
    "\n",
    "Also define a `get_voice_leading(chord_a, `list_of_chords`, n_shared_notes, min_bass_distance=0) -> List[VoiceLeading]` function. list_of_chords doesn't have to be from the same family as `chord_a`."
   ]
  },
  {
   "cell_type": "code",
   "execution_count": 8,
   "id": "ab5c8465-33da-4eba-8126-9c5f827c445b",
   "metadata": {},
   "outputs": [],
   "source": [
    "min_bass_distance = 2\n",
    "n_shared_notes = 5\n",
    "\n",
    "for ss in selection:\n",
    "    for st in selection:\n",
    "        for i in range(12):\n",
    "            shifted = [(pc + i) % 12 for pc in st.pitch_classes]\n",
    "            matches = [a for a, b in zip(ss.pitch_classes, shifted) if a == b]\n",
    "            d1 = (shifted[0] - ss.pitch_classes[0]) % 12\n",
    "            d2 = (ss.pitch_classes[0] - shifted[0]) % 12\n",
    "            if (len(matches) == n_shared_notes) and (d1 > min_bass_distance) and (d2 > min_bass_distance):\n",
    "                print(f\"span: {ss.span}\", ss.pitch_classes)\n",
    "                print(f\"span: {st.span}\", shifted)\n",
    "                print(f\"common voices: {matches}\")\n",
    "                print(f\"{len(matches)} common | {12 - len(matches)} changes | {n_swaps(shifted, ss.pitch_classes)} swaps\")\n",
    "                print(f\"marked changes: {mark_changes(ss.pitch_classes, shifted)}\")\n",
    "                print(f\"sequence entropy of changes: {calculate_sequence_entropy(mark_changes(ss.pitch_classes, shifted)):.2f}\")\n",
    "                print()"
   ]
  },
  {
   "cell_type": "markdown",
   "id": "a6f3e00f-f1b4-4ba1-b6f4-9c4197816534",
   "metadata": {},
   "source": [
    "## Generate Composition Material"
   ]
  },
  {
   "cell_type": "markdown",
   "id": "0f73cd73-fdcb-4193-bd10-c9cde25028a1",
   "metadata": {},
   "source": [
    "### Epigraph\n",
    "\n",
    "- Nothing changes because everything is already there (The history, empires, art, architecture, cradle of civilizations).\n",
    "- Everything changes because chaos is the fountain from which cosmos emerges (Yet still creative, leading, etc.)."
   ]
  },
  {
   "cell_type": "markdown",
   "id": "8098db77-e24b-4c6c-97be-49763c1ed5d3",
   "metadata": {},
   "source": [
    "### Notes\n",
    "\n",
    "Some properties of interest are:\n",
    "\n",
    "scale:\n",
    "\n",
    "- span\n",
    "- sequence entropy\n",
    "- number of intervals / allowed intervals\n",
    "\n",
    "voice leading:\n",
    "\n",
    "- sequence entropy of changes\n",
    "- list of common notes\n",
    "- list of tuples of changed notes\n",
    "- numbers of common notes, changed notes, swaps\n",
    "- change in span"
   ]
  },
  {
   "cell_type": "code",
   "execution_count": null,
   "id": "e715f7cb-044c-4d78-b9c4-568615f6eb49",
   "metadata": {},
   "outputs": [],
   "source": []
  }
 ],
 "metadata": {
  "kernelspec": {
   "display_name": "Python 3 (ipykernel)",
   "language": "python",
   "name": "python3"
  },
  "language_info": {
   "codemirror_mode": {
    "name": "ipython",
    "version": 3
   },
   "file_extension": ".py",
   "mimetype": "text/x-python",
   "name": "python",
   "nbconvert_exporter": "python",
   "pygments_lexer": "ipython3",
   "version": "3.13.1"
  }
 },
 "nbformat": 4,
 "nbformat_minor": 5
}
