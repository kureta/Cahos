{
 "cells": [
  {
   "cell_type": "markdown",
   "id": "7bcbc903-278f-411a-a512-c8594aea30b1",
   "metadata": {},
   "source": [
    "# Cahos"
   ]
  },
  {
   "cell_type": "code",
   "execution_count": 1,
   "id": "7d1b7e60-2322-457e-9652-f57d1dafcd22",
   "metadata": {},
   "outputs": [],
   "source": [
    "from itertools import accumulate"
   ]
  },
  {
   "cell_type": "code",
   "execution_count": 2,
   "id": "dd20f002-b485-444a-9033-86964b69707e",
   "metadata": {},
   "outputs": [],
   "source": [
    "diminished = [3, 3, 3, 4, 3, 3, 3, 4, 3, 3, 3]  # e+, b+\n",
    "minor      = [4, 3, 3, 4, 3, 3, 3, 4, 3, 3, 4]  # c+, d, e, f+, g, g+, a, b (like a major or f+ major)\n",
    "major      = [4, 3, 3, 4, 4, 3, 4, 4, 3, 3, 4]  # c, d-, e-, f, g-, a-, b- (like d- major)\n",
    "augmented  = [4, 4, 3, 4, 4, 3, 4, 4, 3, 4, 4]  # Not Really c-, f-"
   ]
  },
  {
   "cell_type": "markdown",
   "id": "0a8d242c-ab2d-4c84-9a4d-c3cf0b1763f5",
   "metadata": {},
   "source": [
    "## Clean scales"
   ]
  },
  {
   "cell_type": "code",
   "execution_count": 3,
   "id": "2e31b7dd-1898-4bda-ac62-c317a7f6b52a",
   "metadata": {},
   "outputs": [],
   "source": [
    "diatonic = [\"c\", \"d\", \"e\", \"f\", \"g\", \"a\", \"b\"]\n",
    "chromatic = [(\"c\", \"b+\"), (\"c+\", \"d-\"), (\"d\",), (\"d+\", \"e-\"), (\"e\", \"f-\"), (\"f\", \"e+\"), (\"f+\", \"g-\"), (\"g\",), (\"g+\", \"a-\"), (\"a\",), (\"a+\", \"b-\"), (\"b\", \"c-\")]"
   ]
  },
  {
   "cell_type": "code",
   "execution_count": 4,
   "id": "747bc9e8-580a-42be-a62e-2941a7983b66",
   "metadata": {},
   "outputs": [
    {
     "name": "stdout",
     "output_type": "stream",
     "text": [
      "[('c', 'b+'), ('d+', 'e-'), ('f+', 'g-'), ('a',), ('c+', 'd-'), ('e', 'f-'), ('g',), ('a+', 'b-'), ('d',), ('f', 'e+'), ('g+', 'a-'), ('b', 'c-')]\n",
      "[('c+', 'd-'), ('e', 'f-'), ('g',), ('a+', 'b-'), ('d',), ('f', 'e+'), ('g+', 'a-'), ('b', 'c-'), ('d+', 'e-'), ('f+', 'g-'), ('a',), ('c', 'b+')]\n",
      "[('d',), ('f', 'e+'), ('g+', 'a-'), ('b', 'c-'), ('d+', 'e-'), ('f+', 'g-'), ('a',), ('c', 'b+'), ('e', 'f-'), ('g',), ('a+', 'b-'), ('c+', 'd-')]\n",
      "[('d+', 'e-'), ('f+', 'g-'), ('a',), ('c', 'b+'), ('e', 'f-'), ('g',), ('a+', 'b-'), ('c+', 'd-'), ('f', 'e+'), ('g+', 'a-'), ('b', 'c-'), ('d',)]\n",
      "[('e', 'f-'), ('g',), ('a+', 'b-'), ('c+', 'd-'), ('f', 'e+'), ('g+', 'a-'), ('b', 'c-'), ('d',), ('f+', 'g-'), ('a',), ('c', 'b+'), ('d+', 'e-')]\n",
      "[('f', 'e+'), ('g+', 'a-'), ('b', 'c-'), ('d',), ('f+', 'g-'), ('a',), ('c', 'b+'), ('d+', 'e-'), ('g',), ('a+', 'b-'), ('c+', 'd-'), ('e', 'f-')]\n",
      "[('f+', 'g-'), ('a',), ('c', 'b+'), ('d+', 'e-'), ('g',), ('a+', 'b-'), ('c+', 'd-'), ('e', 'f-'), ('g+', 'a-'), ('b', 'c-'), ('d',), ('f', 'e+')]\n",
      "[('g',), ('a+', 'b-'), ('c+', 'd-'), ('e', 'f-'), ('g+', 'a-'), ('b', 'c-'), ('d',), ('f', 'e+'), ('a',), ('c', 'b+'), ('d+', 'e-'), ('f+', 'g-')]\n",
      "[('g+', 'a-'), ('b', 'c-'), ('d',), ('f', 'e+'), ('a',), ('c', 'b+'), ('d+', 'e-'), ('f+', 'g-'), ('a+', 'b-'), ('c+', 'd-'), ('e', 'f-'), ('g',)]\n",
      "[('a',), ('c', 'b+'), ('d+', 'e-'), ('f+', 'g-'), ('a+', 'b-'), ('c+', 'd-'), ('e', 'f-'), ('g',), ('b', 'c-'), ('d',), ('f', 'e+'), ('g+', 'a-')]\n",
      "[('a+', 'b-'), ('c+', 'd-'), ('e', 'f-'), ('g',), ('b', 'c-'), ('d',), ('f', 'e+'), ('g+', 'a-'), ('c', 'b+'), ('d+', 'e-'), ('f+', 'g-'), ('a',)]\n",
      "[('b', 'c-'), ('d',), ('f', 'e+'), ('g+', 'a-'), ('c', 'b+'), ('d+', 'e-'), ('f+', 'g-'), ('a',), ('c+', 'd-'), ('e', 'f-'), ('g',), ('a+', 'b-')]\n"
     ]
    }
   ],
   "source": [
    "chords = []\n",
    "for idx in range(12):\n",
    "    chord = list(accumulate(diminished, lambda a, b: (a + b) % 12, initial=idx))\n",
    "    print([chromatic[c] for c in chord])"
   ]
  },
  {
   "cell_type": "markdown",
   "id": "b2c8ab6d-e0a9-4140-ac24-c208ee00b841",
   "metadata": {},
   "source": [
    "### diminished\n",
    "- `e+ g+ b  d f+ a c e- g b- d- f- (3+ 4-)`\n",
    "- `b+ d+ f+ a c+ e g b- d f  a- c- (4+ 3-)`"
   ]
  },
  {
   "cell_type": "markdown",
   "id": "19694029-dc3f-4c11-8834-dbfff79aee45",
   "metadata": {},
   "source": [
    "### minors\n",
    "\n",
    "- `c+ e+ g+ b  d+ f+ a  c  e  g  b- d  (5+ 1-)`\n",
    "- `d  f+ a  c  e  g  b- d- f  a- c- e- (1+ 5-)`\n",
    "- `e  g+ b  d  f+ a  c  e- g  b- d- f  (2+ 3-)`\n",
    "- `f+ a+ c+ e  g+ b  d  f  a  c  e- g  (4+ 1-)`\n",
    "- `g  b  d  f  a  c  e- g- b- d- f- a- (6-   )`\n",
    "- `g+ b+ d+ f+ a+ c+ e  g  b  d  f  a  (6+   )`\n",
    "- `a  c+ e  g  b  d  f  a- c  e- g- b- (1+ 4-)`\n",
    "- `b  d+ f+ a  c+ e  g  b- d  f  a- c  (3+ 2-)`\n",
    "\n",
    "d major / a major"
   ]
  },
  {
   "cell_type": "markdown",
   "id": "16c5864c-5b53-46c6-9404-ac92b5a25431",
   "metadata": {
    "jp-MarkdownHeadingCollapsed": true
   },
   "source": [
    "### majors\n",
    "\n",
    "- `c  e  g  b- d  f+ a  c+ e+ g+ b d+ (5+ 1-)`\n",
    "- `d- f  a- c- e- g  b- d  f+ a  c e  (1+ 5-)`\n",
    "- `e- g  b- d- f  a  c  e  g+ b  d f+ (2+ 3-)`\n",
    "- `f  a  c  e- g  b  d  f+ a+ c+ e g+ (4+ 1-)`\n",
    "- `g- b- d- f- a- c  e- g  b  d  f a  (6-   )`\n",
    "- `a- c  e- g- b- d  f  a  c+ e  g b  (1+ 4-)`\n",
    "- `b- d  f  a- c  e  g  b  d+ f+ a c+ (3+ 2-)`\n",
    "\n",
    "d- major"
   ]
  },
  {
   "cell_type": "markdown",
   "id": "67b84f50-85f5-40f0-991c-63a0bd78f466",
   "metadata": {
    "jp-MarkdownHeadingCollapsed": true
   },
   "source": [
    "### Melody\n",
    "\n",
    "- `g- b- d- f- a- c  e- g  b  d  f  a  (6-   )`\n",
    "- `g  b  d  f  a  c  e- g- b- d- f- a- (6-   )`\n",
    "- `b- d  f  a- c  e  g  b  d+ f+ a  c+ (3+ 2-)`\n",
    "- `a  c+ e  g  b  d  f  a- c  e- g- b- (1+ 4-)`\n",
    "- `f+ a+ c+ e  g+ b  d  f  a  c  e- g  (4+ 1-)`\n",
    "- `g  b  d  f  a  c  e- g- b- d- f- a- (6-   )`\n",
    "- `f  a  c  e- g  b  d  f+ a+ c+ e  g+ (4+ 1-)`\n",
    "- `g- b- d- f- a- c  e- g  b  d  f  a  (6-   )`"
   ]
  },
  {
   "cell_type": "markdown",
   "id": "fe9110b9-59c7-4284-80b4-8d0d111110b7",
   "metadata": {},
   "source": [
    "### Melody 2\n",
    "\n",
    "- `g  b  d  f  a  c  e- g- b- d- f- a- (6-   )`\n",
    "- `g- b- d- f- a- c  e- g  b  d  f  a  (6-   )`\n",
    "- \n",
    "- `c+ e+ g+ b  d+ f+ a  c  e  g  b- d  (5+ 1-)`\n",
    "- `c  e  g  b- d  f+ a  c+ e+ g+ b  d+ (5+ 1-)`\n",
    "- \n",
    "- `d  f+ a  c  e  g  b- d- f  a- c- e- (1+ 5-)`\n",
    "- `d- f  a- c- e- g  b- d  f+ a  c  e  (1+ 5-)`\n",
    "- \n",
    "- `e  g+ b  d  f+ a  c  e- g  b- d- f  (2+ 3-)`\n",
    "- `e- g  b- d- f  a  c  e  g+ b  d  f+ (2+ 3-)`\n",
    "- \n",
    "- `f+ a+ c+ e  g+ b  d  f  a  c  e- g  (4+ 1-)`\n",
    "- `f  a  c  e- g  b  d  f+ a+ c+ e  g+ (4+ 1-)`\n",
    "- \n",
    "- `a  c+ e  g  b  d  f  a- c  e- g- b- (1+ 4-)`\n",
    "- `a- c  e- g- b- d  f  a  c+ e  g  b  (1+ 4-)`\n",
    "- \n",
    "- `b  d+ f+ a  c+ e  g  b- d  f  a- c  (3+ 2-)`\n",
    "- `b- d  f  a- c  e  g  b  d+ f+ a  c+ (3+ 2-)`\n",
    "- \n",
    "- `g+ b+ d+ f+ a+ c+ e  g  b  d  f  a  (6+   )`"
   ]
  },
  {
   "cell_type": "markdown",
   "id": "152d4d77-d56d-4ec8-a62e-68fa72ec9e61",
   "metadata": {},
   "source": [
    "### Melody 3\n",
    "- `e+ g+ b  d  f+ a  c  e- g  b- d- f- (3+ 4-)`\n",
    "- `e  g+ b  d  f+ a  c  e- g  b- d- f  (2+ 3-)`\n",
    "- `f+ a+ c+ e  g+ b  d  f  a  c  e- g  (4+ 1-)`\n",
    "- `e- g  b- d- f  a  c  e  g+ b  d  f+ (2+ 3-)`\n",
    "- `f  a  c  e- g  b  d  f+ a+ c+ e  g+ (4+ 1-)`\n",
    "-\n",
    "- `b+ d+ f+ a  c+ e  g  b- d  f  a- c- (4+ 3-)`\n",
    "- `a  c+ e  g  b  d  f  a- c  e- g- b- (1+ 4-)`\n",
    "- `b  d+ f+ a  c+ e  g  b- d  f  a- c  (3+ 2-)`\n",
    "- `a- c  e- g- b- d  f  a  c+ e  g  b  (1+ 4-)`\n",
    "- `b- d  f  a- c  e  g  b  d+ f+ a  c+ (3+ 2-)`"
   ]
  },
  {
   "cell_type": "markdown",
   "id": "bcd79ad2-b52d-4eb0-a3a1-963ba45bcd35",
   "metadata": {},
   "source": [
    "## All scales"
   ]
  },
  {
   "cell_type": "code",
   "execution_count": 5,
   "id": "ac96caf2-05a0-4b8b-9f6d-a129e4b1fd5b",
   "metadata": {},
   "outputs": [],
   "source": [
    "from itertools import product\n",
    "from functools import reduce\n",
    "from operator import add, and_"
   ]
  },
  {
   "cell_type": "code",
   "execution_count": 6,
   "id": "08ae65d6-f106-41b5-a8e2-6cf8e1b5e851",
   "metadata": {},
   "outputs": [],
   "source": [
    "def get_scale(current_scale=[0], current_deltas=[], idx=0, accumulator=[], delta_accumulator=[], intervals=[3, 4]):\n",
    "    if idx == 11:\n",
    "        accumulator.append(current_scale)\n",
    "        delta_accumulator.append(current_deltas)\n",
    "        return\n",
    "    for next_interval in intervals:\n",
    "        next_note = (current_scale[-1] + next_interval) % 12\n",
    "        if next_note not in current_scale:\n",
    "            get_scale(current_scale + [next_note], current_deltas + [next_interval], idx + 1, accumulator, delta_accumulator, intervals)"
   ]
  },
  {
   "cell_type": "code",
   "execution_count": 7,
   "id": "e2fdefa8-4b56-418e-98d8-031f911e18b6",
   "metadata": {},
   "outputs": [],
   "source": [
    "from dataclasses import dataclass"
   ]
  },
  {
   "cell_type": "code",
   "execution_count": 8,
   "id": "2d52f221-958f-4623-974a-860c8a2938e0",
   "metadata": {},
   "outputs": [],
   "source": [
    "from collections import Counter, defaultdict\n",
    "from math import log2"
   ]
  },
  {
   "cell_type": "code",
   "execution_count": 9,
   "id": "f9b1936d-b5ed-4154-b5a7-f6f8c03d0530",
   "metadata": {},
   "outputs": [],
   "source": [
    "def calculate_entropy(sequence):\n",
    "    # Count the frequency of each element in the sequence\n",
    "    frequency = Counter(sequence)\n",
    "    total_count = len(sequence)\n",
    "\n",
    "    # Calculate the entropy\n",
    "    entropy = 0\n",
    "    for count in frequency.values():\n",
    "        probability = count / total_count\n",
    "        entropy -= probability * log2(probability)\n",
    "\n",
    "    return entropy"
   ]
  },
  {
   "cell_type": "code",
   "execution_count": 10,
   "id": "464395bd-d61a-4f02-92d3-5df03f7170c9",
   "metadata": {},
   "outputs": [],
   "source": [
    "def calculate_transition_entropy(sequence):\n",
    "    transition_counts = defaultdict(int)\n",
    "    transition_total = 0\n",
    "\n",
    "    # Capture transitions and their frequencies\n",
    "    for i in range(len(sequence) - 1):\n",
    "        transition = (sequence[i], sequence[i + 1])\n",
    "        transition_counts[transition] += 1\n",
    "        transition_total += 1\n",
    "\n",
    "    # Calculate entropy considering transitions\n",
    "    transition_entropy = 0\n",
    "    for count in transition_counts.values():\n",
    "        probability = count / transition_total\n",
    "        transition_entropy -= probability * log2(probability)\n",
    "    \n",
    "    return transition_entropy"
   ]
  },
  {
   "cell_type": "code",
   "execution_count": 11,
   "id": "05023e18-0677-4abe-89b1-5e5247562c00",
   "metadata": {},
   "outputs": [],
   "source": [
    "def calculate_subseq_entropy(sequence, subsequence_length):\n",
    "    sub_seqs = []\n",
    "    for idx in range(len(sequence)-subsequence_length+1):\n",
    "        sub_seqs.append(tuple(sequence[idx:idx+subsequence_length]))\n",
    "    return calculate_entropy(sub_seqs)\n",
    "\n",
    "def calculate_sequence_entropy(sequence):\n",
    "    return sum(calculate_subseq_entropy(sequence, l) for l in range(len(sequence)+1))"
   ]
  },
  {
   "cell_type": "code",
   "execution_count": 12,
   "id": "a0e89cc3-1c36-4957-931e-bde09c69e2e7",
   "metadata": {},
   "outputs": [],
   "source": [
    "@dataclass\n",
    "class Scale:\n",
    "    def __init__(self, deltas):\n",
    "        self.deltas = deltas\n",
    "\n",
    "    def __repr__(self):\n",
    "        return f\"{self.deltas}\"\n",
    "\n",
    "    def __str__(self):\n",
    "        return f\"entropy: {self.sequence_entropy:.2f}, span: {self.span}, deltas: {self.deltas}\"\n",
    "\n",
    "    @property\n",
    "    def pitch_classes(self):\n",
    "        return [a % 12 for a in accumulate(self.deltas, initial=0)]\n",
    "\n",
    "    @property\n",
    "    def span(self):\n",
    "        return sum(self.deltas)\n",
    "\n",
    "    @property\n",
    "    def intervals(self):\n",
    "        return list(set(self.deltas))\n",
    "\n",
    "    @property\n",
    "    def n_intervals(self):\n",
    "        return len(set(self.deltas))\n",
    "\n",
    "    @property\n",
    "    def entropy(self):\n",
    "        return calculate_entropy(self.deltas)\n",
    "\n",
    "    @property\n",
    "    def transition_entropy(self):\n",
    "        return calculate_transition_entropy(self.deltas)\n",
    "\n",
    "    @property\n",
    "    def sequence_entropy(self):\n",
    "        return calculate_sequence_entropy(self.deltas)"
   ]
  },
  {
   "cell_type": "code",
   "execution_count": 13,
   "id": "cb6edbae-0b50-4c0a-9aed-6788cd04df59",
   "metadata": {},
   "outputs": [
    {
     "name": "stdout",
     "output_type": "stream",
     "text": [
      "----------------------------------\n",
      "intervals: [1, 2]\n",
      "[0, 1, 2, 3, 4, 5, 6, 7, 8, 9, 10, 11] [1, 1, 1, 1, 1, 1, 1, 1, 1, 1, 1] 11 0.00\n",
      "[0, 2, 3, 4, 5, 6, 7, 8, 9, 10, 11, 1] [2, 1, 1, 1, 1, 1, 1, 1, 1, 1, 2] 13 0.92\n",
      "[0, 2, 4, 5, 6, 7, 8, 9, 10, 11, 1, 3] [2, 2, 1, 1, 1, 1, 1, 1, 1, 2, 2] 15 1.57\n",
      "[0, 2, 4, 6, 7, 8, 9, 10, 11, 1, 3, 5] [2, 2, 2, 1, 1, 1, 1, 1, 2, 2, 2] 17 1.72\n",
      "[0, 2, 4, 6, 8, 9, 10, 11, 1, 3, 5, 7] [2, 2, 2, 2, 1, 1, 1, 2, 2, 2, 2] 19 1.57\n",
      "[0, 2, 4, 6, 8, 10, 11, 1, 3, 5, 7, 9] [2, 2, 2, 2, 2, 1, 2, 2, 2, 2, 2] 21 0.92\n",
      "----------------------------------\n",
      "intervals: [2, 3]\n",
      "[0, 2, 4, 6, 8, 10, 1, 3, 5, 7, 9, 11] [2, 2, 2, 2, 2, 3, 2, 2, 2, 2, 2] 23 0.92\n",
      "[0, 3, 5, 7, 9, 11, 2, 4, 6, 8, 10, 1] [3, 2, 2, 2, 2, 3, 2, 2, 2, 2, 3] 25 1.37\n",
      "[0, 3, 6, 8, 10, 1, 4, 7, 9, 11, 2, 5] [3, 3, 2, 2, 3, 3, 3, 2, 2, 3, 3] 29 1.92\n",
      "[0, 3, 6, 9, 11, 2, 5, 8, 10, 1, 4, 7] [3, 3, 3, 2, 3, 3, 3, 2, 3, 3, 3] 31 1.37\n",
      "----------------------------------\n",
      "intervals: [3, 4]\n",
      "[0, 3, 6, 9, 1, 4, 7, 10, 2, 5, 8, 11] [3, 3, 3, 4, 3, 3, 3, 4, 3, 3, 3] 35 1.37\n",
      "[0, 4, 7, 10, 2, 5, 8, 11, 3, 6, 9, 1] [4, 3, 3, 4, 3, 3, 3, 4, 3, 3, 4] 37 1.57\n",
      "[0, 4, 7, 10, 2, 6, 9, 1, 5, 8, 11, 3] [4, 3, 3, 4, 4, 3, 4, 4, 3, 3, 4] 39 1.97\n",
      "[0, 4, 8, 11, 3, 7, 10, 2, 6, 9, 1, 5] [4, 4, 3, 4, 4, 3, 4, 4, 3, 4, 4] 41 1.57\n",
      "----------------------------------\n",
      "intervals: [4, 5]\n",
      "[0, 4, 8, 1, 5, 9, 2, 6, 10, 3, 7, 11] [4, 4, 5, 4, 4, 5, 4, 4, 5, 4, 4] 47 1.57\n",
      "[0, 5, 9, 2, 6, 10, 3, 7, 11, 4, 8, 1] [5, 4, 5, 4, 4, 5, 4, 4, 5, 4, 5] 49 1.52\n",
      "[0, 5, 9, 2, 7, 11, 4, 8, 1, 6, 10, 3] [5, 4, 5, 5, 4, 5, 4, 5, 5, 4, 5] 51 1.52\n",
      "[0, 5, 10, 3, 8, 1, 6, 11, 4, 9, 2, 7] [5, 5, 5, 5, 5, 5, 5, 5, 5, 5, 5] 55 0.00\n",
      "----------------------------------\n",
      "intervals: [5, 6]\n",
      "[0, 5, 10, 3, 8, 1, 6, 11, 4, 9, 2, 7] [5, 5, 5, 5, 5, 5, 5, 5, 5, 5, 5] 55 0.00\n",
      "[0, 5, 10, 3, 8, 2, 7, 1, 6, 11, 4, 9] [5, 5, 5, 5, 6, 5, 6, 5, 5, 5, 5] 57 1.37\n",
      "[0, 5, 10, 4, 9, 3, 8, 2, 7, 1, 6, 11] [5, 5, 6, 5, 6, 5, 6, 5, 6, 5, 5] 59 1.52\n",
      "[0, 6, 11, 5, 10, 4, 9, 3, 8, 2, 7, 1] [6, 5, 6, 5, 6, 5, 6, 5, 6, 5, 6] 61 1.00\n",
      "----------------------------------\n"
     ]
    }
   ],
   "source": [
    "allowed_intervals = [1, 2, 3, 4, 5, 6]\n",
    "\n",
    "print(\"----------------------------------\")\n",
    "for idx in range(len(allowed_intervals)-1):\n",
    "    current_intervals = allowed_intervals[idx:idx+2]\n",
    "    print(f\"intervals: {current_intervals}\")\n",
    "    scales = []\n",
    "    deltas = []\n",
    "    get_scale(accumulator=scales, delta_accumulator=deltas, intervals=current_intervals)\n",
    "    scales = [Scale(d) for d in deltas]\n",
    "    for s in scales:\n",
    "        print(s.pitch_classes, s.deltas, s.span, f\"{s.transition_entropy:.2f}\")\n",
    "    print(\"----------------------------------\")"
   ]
  },
  {
   "cell_type": "code",
   "execution_count": 14,
   "id": "b0436600-5f4e-4208-b81d-5cfdcfb80978",
   "metadata": {},
   "outputs": [],
   "source": [
    "def no_consecutive(xs, ns):\n",
    "    for idx in range(len(xs) - 1):\n",
    "        if xs[idx:idx+2] == ns:\n",
    "            return False\n",
    "    return True"
   ]
  },
  {
   "cell_type": "code",
   "execution_count": 15,
   "id": "efbe145e-cc4c-4ec2-b9fe-27bddb9a0526",
   "metadata": {},
   "outputs": [
    {
     "data": {
      "text/plain": [
       "93196"
      ]
     },
     "execution_count": 15,
     "metadata": {},
     "output_type": "execute_result"
    }
   ],
   "source": [
    "allowed_intervals = [1, 2, 3, 4, 5, 6]\n",
    "scales_acc = []\n",
    "deltas_acc = []\n",
    "scales = []\n",
    "\n",
    "get_scale(accumulator=scales_acc, delta_accumulator=deltas_acc, intervals=allowed_intervals)\n",
    "scales = [Scale(da) for da in deltas_acc]\n",
    "len(scales)"
   ]
  },
  {
   "cell_type": "code",
   "execution_count": 16,
   "id": "9dc51be5-21cc-4728-9162-60c6f983b802",
   "metadata": {},
   "outputs": [
    {
     "name": "stdout",
     "output_type": "stream",
     "text": [
      "123\n",
      " 1 3.32 37 [4, 3, 3, 5, 2, 4, 5, 4, 2, 3, 2] [0, 4, 7, 10, 3, 5, 9, 2, 6, 8, 11, 1] [2, 3, 4, 5]\n",
      " 2 3.32 38 [3, 2, 4, 4, 5, 2, 3, 5, 3, 3, 4] [0, 3, 5, 9, 1, 6, 8, 11, 4, 7, 10, 2] [2, 3, 4, 5]\n",
      " 3 3.32 38 [3, 5, 1, 4, 4, 1, 5, 5, 3, 3, 4] [0, 3, 8, 9, 1, 5, 6, 11, 4, 7, 10, 2] [1, 3, 4, 5]\n",
      " 4 3.32 38 [4, 3, 2, 4, 5, 2, 3, 4, 2, 5, 4] [0, 4, 7, 9, 1, 6, 8, 11, 3, 5, 10, 2] [2, 3, 4, 5]\n",
      " 5 3.32 38 [4, 3, 3, 5, 3, 2, 5, 4, 4, 2, 3] [0, 4, 7, 10, 3, 6, 8, 1, 5, 9, 11, 2] [2, 3, 4, 5]\n",
      " 6 3.32 38 [4, 3, 3, 5, 5, 1, 4, 4, 1, 5, 3] [0, 4, 7, 10, 3, 8, 9, 1, 5, 6, 11, 2] [1, 3, 4, 5]\n",
      " 7 3.32 38 [4, 5, 2, 4, 3, 2, 5, 4, 2, 3, 4] [0, 4, 9, 11, 3, 6, 8, 1, 5, 7, 10, 2] [2, 3, 4, 5]\n",
      " 8 3.32 38 [5, 1, 4, 1, 5, 4, 5, 2, 4, 2, 5] [0, 5, 6, 10, 11, 4, 8, 1, 3, 7, 9, 2] [1, 2, 4, 5]\n",
      " 9 3.32 38 [5, 2, 4, 2, 5, 4, 5, 1, 4, 1, 5] [0, 5, 7, 11, 1, 6, 10, 3, 4, 8, 9, 2] [1, 2, 4, 5]\n",
      "10 3.32 39 [4, 4, 5, 5, 1, 4, 3, 3, 4, 1, 5] [0, 4, 8, 1, 6, 7, 11, 2, 5, 9, 10, 3] [1, 3, 4, 5]\n",
      "11 3.32 39 [5, 1, 4, 3, 3, 4, 1, 5, 5, 4, 4] [0, 5, 6, 10, 1, 4, 8, 9, 2, 7, 11, 3] [1, 3, 4, 5]\n",
      "12 3.32 40 [3, 3, 2, 3, 6, 4, 4, 6, 3, 4, 2] [0, 3, 6, 8, 11, 5, 9, 1, 7, 10, 2, 4] [2, 3, 4, 6]\n",
      "13 3.32 40 [3, 3, 5, 6, 3, 2, 3, 6, 2, 5, 2] [0, 3, 6, 11, 5, 8, 10, 1, 7, 9, 2, 4] [2, 3, 5, 6]\n",
      "14 3.32 40 [3, 5, 5, 4, 2, 3, 4, 4, 3, 2, 5] [0, 3, 8, 1, 5, 7, 10, 2, 6, 9, 11, 4] [2, 3, 4, 5]\n",
      "15 3.32 40 [5, 2, 3, 4, 4, 3, 2, 4, 5, 5, 3] [0, 5, 7, 10, 2, 6, 9, 11, 3, 8, 1, 4] [2, 3, 4, 5]\n",
      "16 3.32 40 [5, 3, 2, 3, 5, 5, 4, 4, 2, 5, 2] [0, 5, 8, 10, 1, 6, 11, 3, 7, 9, 2, 4] [2, 3, 4, 5]\n",
      "17 3.32 40 [6, 2, 3, 2, 4, 4, 6, 4, 3, 4, 2] [0, 6, 8, 11, 1, 5, 9, 3, 7, 10, 2, 4] [2, 3, 4, 6]\n",
      "18 3.32 40 [6, 4, 1, 4, 2, 4, 4, 6, 1, 6, 2] [0, 6, 10, 11, 3, 5, 9, 1, 7, 8, 2, 4] [1, 2, 4, 6]\n",
      "19 3.32 41 [3, 3, 2, 3, 5, 6, 3, 6, 2, 5, 3] [0, 3, 6, 8, 11, 4, 10, 1, 7, 9, 2, 5] [2, 3, 5, 6]\n",
      "20 3.32 41 [3, 5, 2, 6, 3, 6, 5, 3, 2, 3, 3] [0, 3, 8, 10, 4, 7, 1, 6, 9, 11, 2, 5] [2, 3, 5, 6]\n",
      "21 3.32 41 [4, 2, 3, 6, 4, 3, 4, 6, 3, 2, 4] [0, 4, 6, 9, 3, 7, 10, 2, 8, 11, 1, 5] [2, 3, 4, 6]\n",
      "22 3.32 41 [4, 3, 2, 4, 2, 3, 4, 4, 6, 3, 6] [0, 4, 7, 9, 1, 3, 6, 10, 2, 8, 11, 5] [2, 3, 4, 6]\n",
      "23 3.32 41 [4, 6, 1, 4, 5, 1, 5, 4, 1, 6, 4] [0, 4, 10, 11, 3, 8, 9, 2, 6, 7, 1, 5] [1, 4, 5, 6]\n",
      "24 3.32 41 [6, 3, 6, 4, 4, 3, 2, 4, 2, 3, 4] [0, 6, 9, 3, 7, 11, 2, 4, 8, 10, 1, 5] [2, 3, 4, 6]\n",
      "25 3.32 42 [3, 2, 4, 4, 6, 3, 6, 4, 3, 3, 4] [0, 3, 5, 9, 1, 7, 10, 4, 8, 11, 2, 6] [2, 3, 4, 6]\n",
      "26 3.32 42 [3, 6, 4, 3, 3, 4, 6, 3, 2, 4, 4] [0, 3, 9, 1, 4, 7, 11, 5, 8, 10, 2, 6] [2, 3, 4, 6]\n",
      "27 3.32 42 [4, 1, 6, 4, 6, 1, 4, 5, 1, 5, 5] [0, 4, 5, 11, 3, 9, 10, 2, 7, 8, 1, 6] [1, 4, 5, 6]\n",
      "28 3.32 42 [4, 3, 3, 4, 6, 3, 6, 4, 4, 2, 3] [0, 4, 7, 10, 2, 8, 11, 5, 9, 1, 3, 6] [2, 3, 4, 6]\n",
      "29 3.32 42 [4, 3, 3, 5, 5, 3, 2, 4, 4, 5, 4] [0, 4, 7, 10, 3, 8, 11, 1, 5, 9, 2, 6] [2, 3, 4, 5]\n",
      "30 3.32 42 [4, 4, 2, 3, 6, 4, 3, 3, 4, 6, 3] [0, 4, 8, 10, 1, 7, 11, 2, 5, 9, 3, 6] [2, 3, 4, 6]\n",
      "31 3.32 42 [4, 4, 3, 4, 2, 4, 5, 5, 3, 3, 5] [0, 4, 8, 11, 3, 5, 9, 2, 7, 10, 1, 6] [2, 3, 4, 5]\n",
      "32 3.32 42 [4, 5, 1, 4, 1, 5, 5, 6, 4, 6, 1] [0, 4, 9, 10, 2, 3, 8, 1, 7, 11, 5, 6] [1, 4, 5, 6]\n",
      "33 3.32 42 [4, 5, 4, 4, 2, 3, 5, 5, 3, 3, 4] [0, 4, 9, 1, 5, 7, 10, 3, 8, 11, 2, 6] [2, 3, 4, 5]\n",
      "34 3.32 42 [4, 6, 1, 4, 5, 1, 5, 5, 6, 4, 1] [0, 4, 10, 11, 3, 8, 9, 2, 7, 1, 5, 6] [1, 4, 5, 6]\n",
      "35 3.32 42 [4, 6, 1, 6, 4, 5, 1, 4, 1, 5, 5] [0, 4, 10, 11, 5, 9, 2, 3, 7, 8, 1, 6] [1, 4, 5, 6]\n",
      "36 3.32 42 [5, 2, 3, 5, 5, 3, 3, 2, 5, 4, 5] [0, 5, 7, 10, 3, 8, 11, 2, 4, 9, 1, 6] [2, 3, 4, 5]\n",
      "37 3.32 42 [5, 3, 3, 5, 5, 4, 2, 4, 3, 4, 4] [0, 5, 8, 11, 4, 9, 1, 3, 7, 10, 2, 6] [2, 3, 4, 5]\n",
      "38 3.32 42 [5, 4, 5, 2, 3, 3, 5, 5, 3, 2, 5] [0, 5, 9, 2, 4, 7, 10, 3, 8, 11, 1, 6] [2, 3, 4, 5]\n",
      "39 3.32 42 [5, 5, 1, 4, 1, 5, 4, 6, 1, 6, 4] [0, 5, 10, 11, 3, 4, 9, 1, 7, 8, 2, 6] [1, 4, 5, 6]\n",
      "40 3.32 42 [5, 5, 1, 5, 4, 1, 6, 4, 6, 1, 4] [0, 5, 10, 11, 4, 8, 9, 3, 7, 1, 2, 6] [1, 4, 5, 6]\n",
      "41 3.32 43 [4, 6, 4, 4, 3, 6, 2, 3, 3, 2, 6] [0, 4, 10, 2, 6, 9, 3, 5, 8, 11, 1, 7] [2, 3, 4, 6]\n",
      "42 3.32 43 [5, 3, 3, 5, 5, 4, 2, 3, 4, 4, 5] [0, 5, 8, 11, 4, 9, 1, 3, 6, 10, 2, 7] [2, 3, 4, 5]\n",
      "43 3.32 43 [5, 4, 4, 3, 2, 4, 5, 5, 3, 3, 5] [0, 5, 9, 1, 4, 6, 10, 3, 8, 11, 2, 7] [2, 3, 4, 5]\n",
      "44 3.32 43 [6, 2, 3, 3, 2, 6, 3, 4, 4, 6, 4] [0, 6, 8, 11, 2, 4, 10, 1, 5, 9, 3, 7] [2, 3, 4, 6]\n",
      "45 3.32 44 [5, 1, 4, 1, 5, 5, 6, 4, 6, 1, 6] [0, 5, 6, 10, 11, 4, 9, 3, 7, 1, 2, 8] [1, 4, 5, 6]\n",
      "46 3.32 44 [5, 2, 3, 3, 5, 5, 3, 2, 5, 6, 5] [0, 5, 7, 10, 1, 6, 11, 2, 4, 9, 3, 8] [2, 3, 5, 6]\n",
      "47 3.32 44 [5, 6, 5, 2, 3, 5, 5, 3, 3, 2, 5] [0, 5, 11, 4, 6, 9, 2, 7, 10, 1, 3, 8] [2, 3, 5, 6]\n",
      "48 3.32 44 [6, 1, 4, 5, 1, 5, 5, 6, 4, 1, 6] [0, 6, 7, 11, 4, 5, 10, 3, 9, 1, 2, 8] [1, 4, 5, 6]\n",
      "49 3.32 44 [6, 1, 4, 6, 5, 5, 1, 5, 4, 1, 6] [0, 6, 7, 11, 5, 10, 3, 4, 9, 1, 2, 8] [1, 4, 5, 6]\n",
      "50 3.32 44 [6, 1, 6, 4, 5, 1, 4, 1, 5, 5, 6] [0, 6, 7, 1, 5, 10, 11, 3, 4, 9, 2, 8] [1, 4, 5, 6]\n",
      "51 3.32 44 [6, 1, 6, 4, 6, 5, 5, 1, 4, 1, 5] [0, 6, 7, 1, 5, 11, 4, 9, 10, 2, 3, 8] [1, 4, 5, 6]\n",
      "52 3.32 44 [6, 5, 5, 1, 4, 1, 5, 4, 6, 1, 6] [0, 6, 11, 4, 5, 9, 10, 3, 7, 1, 2, 8] [1, 4, 5, 6]\n",
      "53 3.32 44 [6, 5, 5, 1, 5, 4, 1, 6, 4, 6, 1] [0, 6, 11, 4, 5, 10, 2, 3, 9, 1, 7, 8] [1, 4, 5, 6]\n",
      "54 3.32 45 [3, 4, 4, 3, 3, 5, 6, 4, 5, 5, 3] [0, 3, 7, 11, 2, 5, 10, 4, 8, 1, 6, 9] [3, 4, 5, 6]\n",
      "55 3.32 45 [3, 4, 4, 5, 6, 4, 3, 3, 5, 5, 3] [0, 3, 7, 11, 4, 10, 2, 5, 8, 1, 6, 9] [3, 4, 5, 6]\n",
      "56 3.32 45 [3, 5, 5, 3, 3, 4, 6, 5, 4, 4, 3] [0, 3, 8, 1, 4, 7, 11, 5, 10, 2, 6, 9] [3, 4, 5, 6]\n",
      "57 3.32 45 [3, 5, 5, 4, 6, 5, 3, 3, 4, 4, 3] [0, 3, 8, 1, 5, 11, 4, 7, 10, 2, 6, 9] [3, 4, 5, 6]\n",
      "58 3.32 45 [4, 4, 5, 5, 1, 4, 6, 5, 4, 1, 6] [0, 4, 8, 1, 6, 7, 11, 5, 10, 2, 3, 9] [1, 4, 5, 6]\n",
      "59 3.32 45 [4, 6, 5, 4, 1, 5, 1, 4, 5, 6, 4] [0, 4, 10, 3, 7, 8, 1, 2, 6, 11, 5, 9] [1, 4, 5, 6]\n",
      "60 3.32 45 [6, 1, 4, 5, 6, 4, 1, 5, 5, 4, 4] [0, 6, 7, 11, 4, 10, 2, 3, 8, 1, 5, 9] [1, 4, 5, 6]\n",
      "61 3.32 46 [3, 3, 5, 6, 4, 4, 3, 4, 6, 5, 3] [0, 3, 6, 11, 5, 9, 1, 4, 8, 2, 7, 10] [3, 4, 5, 6]\n",
      "62 3.32 46 [3, 5, 5, 3, 3, 4, 6, 4, 5, 4, 4] [0, 3, 8, 1, 4, 7, 11, 5, 9, 2, 6, 10] [3, 4, 5, 6]\n",
      "63 3.32 46 [3, 5, 6, 4, 3, 4, 4, 6, 5, 3, 3] [0, 3, 8, 2, 6, 9, 1, 5, 11, 4, 7, 10] [3, 4, 5, 6]\n",
      "64 3.32 46 [4, 1, 6, 4, 5, 1, 5, 5, 6, 5, 4] [0, 4, 5, 11, 3, 8, 9, 2, 7, 1, 6, 10] [1, 4, 5, 6]\n",
      "65 3.32 46 [4, 3, 4, 4, 6, 5, 3, 3, 5, 5, 4] [0, 4, 7, 11, 3, 9, 2, 5, 8, 1, 6, 10] [3, 4, 5, 6]\n",
      "66 3.32 46 [4, 4, 1, 6, 4, 6, 1, 4, 5, 6, 5] [0, 4, 8, 9, 3, 7, 1, 2, 6, 11, 5, 10] [1, 4, 5, 6]\n",
      "67 3.32 46 [4, 4, 5, 4, 6, 4, 3, 3, 5, 5, 3] [0, 4, 8, 1, 5, 11, 3, 6, 9, 2, 7, 10] [3, 4, 5, 6]\n",
      "68 3.32 46 [4, 4, 6, 5, 2, 4, 5, 5, 4, 2, 5] [0, 4, 8, 2, 7, 9, 1, 6, 11, 3, 5, 10] [2, 4, 5, 6]\n",
      "69 3.32 46 [4, 5, 5, 3, 3, 5, 6, 4, 4, 3, 4] [0, 4, 9, 2, 5, 8, 1, 7, 11, 3, 6, 10] [3, 4, 5, 6]\n",
      "70 3.32 46 [4, 5, 5, 4, 2, 5, 2, 4, 4, 6, 5] [0, 4, 9, 2, 6, 8, 1, 3, 7, 11, 5, 10] [2, 4, 5, 6]\n",
      "71 3.32 46 [4, 5, 6, 5, 5, 1, 5, 4, 6, 1, 4] [0, 4, 9, 3, 8, 1, 2, 7, 11, 5, 6, 10] [1, 4, 5, 6]\n",
      "72 3.32 46 [5, 2, 4, 5, 5, 4, 2, 5, 6, 4, 4] [0, 5, 7, 11, 4, 9, 1, 3, 8, 2, 6, 10] [2, 4, 5, 6]\n",
      "73 3.32 46 [5, 4, 5, 6, 5, 5, 1, 4, 4, 1, 6] [0, 5, 9, 2, 8, 1, 6, 7, 11, 3, 4, 10] [1, 4, 5, 6]\n",
      "74 3.32 46 [5, 4, 6, 4, 1, 5, 1, 4, 5, 5, 6] [0, 5, 9, 3, 7, 8, 1, 2, 6, 11, 4, 10] [1, 4, 5, 6]\n",
      "75 3.32 46 [5, 6, 3, 5, 1, 5, 5, 3, 6, 1, 6] [0, 5, 11, 2, 7, 8, 1, 6, 9, 3, 4, 10] [1, 3, 5, 6]\n",
      "76 3.32 46 [5, 6, 4, 4, 2, 5, 2, 4, 5, 5, 4] [0, 5, 11, 3, 7, 9, 2, 4, 8, 1, 6, 10] [2, 4, 5, 6]\n",
      "77 3.32 46 [5, 6, 5, 4, 1, 6, 4, 6, 1, 4, 4] [0, 5, 11, 4, 8, 9, 3, 7, 1, 2, 6, 10] [1, 4, 5, 6]\n",
      "78 3.32 46 [6, 1, 4, 4, 1, 5, 5, 6, 5, 4, 5] [0, 6, 7, 11, 3, 4, 9, 2, 8, 1, 5, 10] [1, 4, 5, 6]\n",
      "79 3.32 46 [6, 1, 6, 3, 5, 5, 1, 5, 3, 6, 5] [0, 6, 7, 1, 4, 9, 2, 3, 8, 11, 5, 10] [1, 3, 5, 6]\n",
      "80 3.32 46 [6, 2, 5, 4, 2, 4, 4, 6, 5, 2, 6] [0, 6, 8, 1, 5, 7, 11, 3, 9, 2, 4, 10] [2, 4, 5, 6]\n",
      "81 3.32 46 [6, 2, 5, 6, 4, 4, 2, 4, 5, 2, 6] [0, 6, 8, 1, 7, 11, 3, 5, 9, 2, 4, 10] [2, 4, 5, 6]\n",
      "82 3.32 46 [6, 2, 6, 3, 2, 4, 4, 6, 4, 3, 6] [0, 6, 8, 2, 5, 7, 11, 3, 9, 1, 4, 10] [2, 3, 4, 6]\n",
      "83 3.32 46 [6, 2, 6, 3, 4, 6, 4, 4, 2, 3, 6] [0, 6, 8, 2, 5, 9, 3, 7, 11, 1, 4, 10] [2, 3, 4, 6]\n",
      "84 3.32 46 [6, 3, 2, 4, 4, 6, 4, 3, 6, 2, 6] [0, 6, 9, 11, 3, 7, 1, 5, 8, 2, 4, 10] [2, 3, 4, 6]\n",
      "85 3.32 46 [6, 3, 4, 6, 4, 4, 2, 3, 6, 2, 6] [0, 6, 9, 1, 7, 11, 3, 5, 8, 2, 4, 10] [2, 3, 4, 6]\n",
      "86 3.32 46 [6, 5, 5, 4, 1, 5, 1, 4, 6, 4, 5] [0, 6, 11, 4, 8, 9, 2, 3, 7, 1, 5, 10] [1, 4, 5, 6]\n",
      "87 3.32 47 [3, 6, 5, 3, 3, 5, 5, 4, 6, 3, 4] [0, 3, 9, 2, 5, 8, 1, 6, 10, 4, 7, 11] [3, 4, 5, 6]\n",
      "88 3.32 47 [4, 2, 4, 4, 5, 2, 6, 5, 5, 4, 6] [0, 4, 6, 10, 2, 7, 9, 3, 8, 1, 5, 11] [2, 4, 5, 6]\n",
      "89 3.32 47 [4, 3, 6, 4, 5, 5, 3, 3, 5, 6, 3] [0, 4, 7, 1, 5, 10, 3, 6, 9, 2, 8, 11] [3, 4, 5, 6]\n",
      "90 3.32 47 [4, 6, 5, 2, 4, 5, 4, 2, 5, 6, 4] [0, 4, 10, 3, 5, 9, 2, 6, 8, 1, 7, 11] [2, 4, 5, 6]\n",
      "91 3.32 47 [6, 4, 5, 5, 6, 2, 5, 4, 4, 2, 4] [0, 6, 10, 3, 8, 2, 4, 9, 1, 5, 7, 11] [2, 4, 5, 6]\n",
      "92 3.32 49 [3, 4, 3, 6, 5, 5, 4, 5, 6, 3, 5] [0, 3, 7, 10, 4, 9, 2, 6, 11, 5, 8, 1] [3, 4, 5, 6]\n",
      "93 3.32 49 [4, 2, 4, 5, 5, 6, 5, 4, 6, 4, 4] [0, 4, 6, 10, 3, 8, 2, 7, 11, 5, 9, 1] [2, 4, 5, 6]\n",
      "94 3.32 49 [4, 3, 3, 4, 4, 5, 6, 4, 6, 5, 5] [0, 4, 7, 10, 2, 6, 11, 5, 9, 3, 8, 1] [3, 4, 5, 6]\n",
      "95 3.32 49 [4, 4, 6, 4, 5, 6, 5, 5, 4, 2, 4] [0, 4, 8, 2, 6, 11, 5, 10, 3, 7, 9, 1] [2, 4, 5, 6]\n",
      "96 3.32 49 [5, 3, 6, 5, 4, 5, 5, 6, 3, 4, 3] [0, 5, 8, 2, 7, 11, 4, 9, 3, 6, 10, 1] [3, 4, 5, 6]\n",
      "97 3.32 49 [5, 5, 6, 4, 6, 5, 4, 4, 3, 3, 4] [0, 5, 10, 4, 8, 2, 7, 11, 3, 6, 9, 1] [3, 4, 5, 6]\n",
      "98 3.32 49 [6, 3, 5, 6, 2, 5, 2, 6, 5, 3, 6] [0, 6, 9, 2, 8, 10, 3, 5, 11, 4, 7, 1] [2, 3, 5, 6]\n",
      "99 3.32 49 [6, 4, 5, 2, 4, 2, 5, 4, 6, 5, 6] [0, 6, 10, 3, 5, 9, 11, 4, 8, 2, 7, 1] [2, 4, 5, 6]\n",
      "100 3.32 49 [6, 5, 6, 4, 5, 2, 4, 2, 5, 4, 6] [0, 6, 11, 5, 9, 2, 4, 8, 10, 3, 7, 1] [2, 4, 5, 6]\n",
      "101 3.32 50 [3, 4, 4, 6, 5, 6, 4, 5, 5, 3, 5] [0, 3, 7, 11, 5, 10, 4, 8, 1, 6, 9, 2] [3, 4, 5, 6]\n",
      "102 3.32 50 [4, 3, 4, 6, 3, 5, 5, 4, 5, 6, 5] [0, 4, 7, 11, 5, 8, 1, 6, 10, 3, 9, 2] [3, 4, 5, 6]\n",
      "103 3.32 50 [4, 4, 2, 5, 4, 6, 5, 5, 6, 4, 5] [0, 4, 8, 10, 3, 7, 1, 6, 11, 5, 9, 2] [2, 4, 5, 6]\n",
      "104 3.32 50 [4, 4, 5, 6, 4, 6, 5, 5, 3, 3, 5] [0, 4, 8, 1, 7, 11, 5, 10, 3, 6, 9, 2] [3, 4, 5, 6]\n",
      "105 3.32 50 [5, 3, 3, 5, 5, 6, 4, 6, 5, 4, 4] [0, 5, 8, 11, 4, 9, 3, 7, 1, 6, 10, 2] [3, 4, 5, 6]\n",
      "106 3.32 50 [5, 3, 5, 5, 4, 6, 5, 6, 4, 4, 3] [0, 5, 8, 1, 6, 10, 4, 9, 3, 7, 11, 2] [3, 4, 5, 6]\n",
      "107 3.32 50 [5, 3, 5, 6, 4, 4, 3, 4, 6, 5, 5] [0, 5, 8, 1, 7, 11, 3, 6, 10, 4, 9, 2] [3, 4, 5, 6]\n",
      "108 3.32 50 [5, 4, 6, 5, 5, 6, 4, 5, 2, 4, 4] [0, 5, 9, 3, 8, 1, 7, 11, 4, 6, 10, 2] [2, 4, 5, 6]\n",
      "109 3.32 50 [5, 5, 6, 4, 3, 4, 4, 6, 5, 3, 5] [0, 5, 10, 4, 8, 11, 3, 7, 1, 6, 9, 2] [3, 4, 5, 6]\n",
      "110 3.32 50 [5, 6, 5, 4, 5, 5, 3, 6, 4, 3, 4] [0, 5, 11, 4, 8, 1, 6, 9, 3, 7, 10, 2] [3, 4, 5, 6]\n",
      "111 3.32 50 [6, 3, 4, 4, 6, 5, 3, 3, 5, 5, 6] [0, 6, 9, 1, 5, 11, 4, 7, 10, 3, 8, 2] [3, 4, 5, 6]\n",
      "112 3.32 50 [6, 5, 5, 3, 3, 5, 6, 4, 4, 3, 6] [0, 6, 11, 4, 7, 10, 3, 9, 1, 5, 8, 2] [3, 4, 5, 6]\n",
      "113 3.32 51 [5, 4, 4, 6, 1, 6, 4, 5, 5, 6, 5] [0, 5, 9, 1, 7, 8, 2, 6, 11, 4, 10, 3] [1, 4, 5, 6]\n",
      "114 3.32 51 [5, 6, 5, 5, 4, 6, 1, 6, 4, 4, 5] [0, 5, 11, 4, 9, 1, 7, 8, 2, 6, 10, 3] [1, 4, 5, 6]\n",
      "115 3.32 51 [6, 2, 5, 4, 6, 5, 6, 4, 5, 2, 6] [0, 6, 8, 1, 5, 11, 4, 10, 2, 7, 9, 3] [2, 4, 5, 6]\n",
      "116 3.32 51 [6, 4, 4, 5, 1, 5, 4, 6, 5, 5, 6] [0, 6, 10, 2, 7, 8, 1, 5, 11, 4, 9, 3] [1, 4, 5, 6]\n",
      "117 3.32 51 [6, 4, 4, 6, 5, 4, 2, 4, 5, 5, 6] [0, 6, 10, 2, 8, 1, 5, 7, 11, 4, 9, 3] [2, 4, 5, 6]\n",
      "118 3.32 51 [6, 5, 5, 4, 2, 4, 5, 6, 4, 4, 6] [0, 6, 11, 4, 8, 10, 2, 7, 1, 5, 9, 3] [2, 4, 5, 6]\n",
      "119 3.32 51 [6, 5, 5, 6, 4, 5, 1, 5, 4, 4, 6] [0, 6, 11, 4, 10, 2, 7, 8, 1, 5, 9, 3] [1, 4, 5, 6]\n",
      "120 3.32 52 [3, 5, 3, 6, 4, 5, 5, 6, 5, 4, 6] [0, 3, 8, 11, 5, 9, 2, 7, 1, 6, 10, 4] [3, 4, 5, 6]\n",
      "121 3.32 52 [6, 3, 4, 4, 6, 4, 5, 6, 5, 3, 6] [0, 6, 9, 1, 5, 11, 3, 8, 2, 7, 10, 4] [3, 4, 5, 6]\n",
      "122 3.32 52 [6, 3, 5, 6, 5, 4, 6, 4, 4, 3, 6] [0, 6, 9, 2, 8, 1, 5, 11, 3, 7, 10, 4] [3, 4, 5, 6]\n",
      "123 3.32 52 [6, 4, 5, 6, 5, 5, 4, 6, 3, 5, 3] [0, 6, 10, 3, 9, 2, 7, 11, 5, 8, 1, 4] [3, 4, 5, 6]\n"
     ]
    }
   ],
   "source": [
    "def predicates(x):\n",
    "    return reduce(and_,\n",
    "    [\n",
    "        no_consecutive(x.deltas, [2, 2]),\n",
    "        no_consecutive(x.deltas, [1, 1]),\n",
    "        no_consecutive(x.deltas, [1, 2]),\n",
    "        no_consecutive(x.deltas, [2, 1]),\n",
    "        no_consecutive(x.deltas, [1, 3]),\n",
    "        no_consecutive(x.deltas, [3, 1]),\n",
    "        x.n_intervals == 4,\n",
    "        x.deltas[0] != 1,\n",
    "        x.deltas[0] != 2,\n",
    "        x.transition_entropy > 3.32\n",
    "    ])\n",
    "\n",
    "selection = list(sorted(filter(predicates, scales), key=lambda x: x.span, reverse=False))\n",
    "print(len(selection))\n",
    "for idx, s in enumerate(selection):\n",
    "    print(f\"{idx+1:2d}\", f\"{s.transition_entropy:.2f}\", s.span, s.deltas, s.pitch_classes, s.intervals)"
   ]
  },
  {
   "cell_type": "code",
   "execution_count": 17,
   "id": "702b3c5a-adc6-401d-b875-b7a7ad425117",
   "metadata": {},
   "outputs": [
    {
     "name": "stdout",
     "output_type": "stream",
     "text": [
      " 1 1.37 35 [3, 3, 3, 4, 3, 3, 3, 4, 3, 3, 3] [0, 3, 6, 9, 1, 4, 7, 10, 2, 5, 8, 11] [3, 4]\n",
      " 2 1.57 37 [4, 3, 3, 4, 3, 3, 3, 4, 3, 3, 4] [0, 4, 7, 10, 2, 5, 8, 11, 3, 6, 9, 1] [3, 4]\n",
      " 3 1.97 39 [4, 3, 3, 4, 4, 3, 4, 4, 3, 3, 4] [0, 4, 7, 10, 2, 6, 9, 1, 5, 8, 11, 3] [3, 4]\n",
      " 4 1.57 41 [4, 4, 3, 4, 4, 3, 4, 4, 3, 4, 4] [0, 4, 8, 11, 3, 7, 10, 2, 6, 9, 1, 5] [3, 4]\n"
     ]
    }
   ],
   "source": [
    "def predicates(x):\n",
    "    return reduce(and_,\n",
    "    [\n",
    "        x.intervals == [3, 4]\n",
    "    ])\n",
    "\n",
    "selection = list(sorted(filter(predicates, scales), key=lambda x: x.span))\n",
    "for idx, s in enumerate(selection):\n",
    "    print(f\"{idx+1:2d}\", f\"{s.transition_entropy:.2f}\", s.span, s.deltas, f\"{s.pitch_classes}\", s.intervals)"
   ]
  },
  {
   "cell_type": "markdown",
   "id": "be616344-6752-46b6-9968-70b2c9f95742",
   "metadata": {},
   "source": [
    "### More efficient get_scales"
   ]
  },
  {
   "cell_type": "code",
   "execution_count": 18,
   "id": "db5dc0ca-a62d-4801-aeff-54b4b1a5030f",
   "metadata": {},
   "outputs": [],
   "source": [
    "def contains_subsequence(main_list, sub_list):\n",
    "    for idx in range(len(main_list) - len(sub_list) + 1):\n",
    "        if main_list[idx: idx + len(sub_list)] == sub_list:\n",
    "            return True\n",
    "    return False"
   ]
  },
  {
   "cell_type": "code",
   "execution_count": 19,
   "id": "77a49d5c-e999-4988-90c2-978b69963691",
   "metadata": {},
   "outputs": [],
   "source": [
    "def get_scales(allowed_intervals, disallowed_subsequences=[], disallowed_beginnings=[]):\n",
    "    result = []\n",
    "    get_scales_recursive(allowed_intervals, disallowed_subsequences, disallowed_beginnings, result)\n",
    "\n",
    "    return result\n",
    "\n",
    "def get_scales_recursive(allowed_intervals, disallowed_subsequences, disallowed_beginnings, deltas_accumulator,\n",
    "                         pitch_classes=[0], deltas=[], idx=0):\n",
    "    if idx == 11:\n",
    "        deltas_accumulator.append(deltas)\n",
    "        # normal exit\n",
    "        return\n",
    "    for next_interval in allowed_intervals:\n",
    "        # early exits\n",
    "        if (idx == 0) and (next_interval in disallowed_beginnings):\n",
    "            continue\n",
    "        if any(contains_subsequence(deltas + [next_interval], dis_seq) for dis_seq in disallowed_subsequences):\n",
    "            continue\n",
    "        next_note = (pitch_classes[-1] + next_interval) % 12\n",
    "        if next_note not in pitch_classes:\n",
    "            get_scales_recursive(allowed_intervals, disallowed_subsequences, disallowed_beginnings, deltas_accumulator,\n",
    "                      pitch_classes + [next_note], deltas + [next_interval], idx + 1)"
   ]
  },
  {
   "cell_type": "code",
   "execution_count": 22,
   "id": "0c3148af-9faf-422a-84b4-4649a1f6bdc9",
   "metadata": {},
   "outputs": [
    {
     "name": "stdout",
     "output_type": "stream",
     "text": [
      "2293\n"
     ]
    }
   ],
   "source": [
    "dis_subseq = [\n",
    "    [1, 2], [2, 1], [3, 1],\n",
    "    [3, 4], [4, 3],\n",
    "    [6, 1], [1, 6], [5, 1], [1, 5],\n",
    "    [1, 1], [2, 2], [3, 3], [4, 4],\n",
    "    [5, 5, 5], [6, 6, 6]\n",
    "]\n",
    "scales = [Scale(s) for s in get_scales(\n",
    "    allowed_intervals=[1, 2, 3, 4, 5, 6],\n",
    "    disallowed_subsequences=dis_subseq,\n",
    "    disallowed_beginnings=[1, 2])]\n",
    "\n",
    "print(len(scales))"
   ]
  },
  {
   "cell_type": "code",
   "execution_count": 529,
   "id": "9352db85-d5c4-49bc-8f54-7d6d1c588430",
   "metadata": {
    "scrolled": true
   },
   "outputs": [
    {
     "name": "stdout",
     "output_type": "stream",
     "text": [
      "74\n",
      "entropy: 22.76, span: 56, deltas: [4, 5, 6, 4, 6, 5, 5, 6, 5, 4, 6]\n",
      "entropy: 22.76, span: 56, deltas: [6, 4, 5, 6, 5, 5, 6, 4, 6, 5, 4]\n",
      "entropy: 22.76, span: 53, deltas: [6, 3, 5, 5, 6, 3, 6, 5, 5, 3, 6]\n",
      "entropy: 22.76, span: 50, deltas: [5, 5, 6, 2, 5, 2, 6, 2, 6, 5, 6]\n",
      "entropy: 22.76, span: 50, deltas: [6, 5, 6, 2, 6, 2, 5, 2, 6, 5, 5]\n",
      "entropy: 22.73, span: 40, deltas: [5, 2, 3, 5, 5, 3, 2, 5, 3, 5, 2]\n",
      "entropy: 22.69, span: 57, deltas: [6, 5, 5, 4, 6, 5, 6, 4, 5, 5, 6]\n",
      "entropy: 22.63, span: 43, deltas: [5, 5, 3, 2, 5, 3, 5, 2, 3, 5, 5]\n",
      "entropy: 22.56, span: 56, deltas: [4, 6, 4, 5, 6, 5, 5, 6, 4, 6, 5]\n",
      "entropy: 22.56, span: 56, deltas: [5, 6, 4, 6, 5, 5, 6, 5, 4, 6, 4]\n",
      "entropy: 22.54, span: 56, deltas: [4, 6, 5, 4, 6, 5, 5, 6, 4, 5, 6]\n",
      "entropy: 22.54, span: 56, deltas: [6, 5, 4, 6, 5, 5, 6, 4, 5, 6, 4]\n",
      "entropy: 22.49, span: 57, deltas: [5, 5, 6, 4, 6, 5, 6, 5, 5, 4, 6]\n",
      "entropy: 22.49, span: 57, deltas: [6, 4, 5, 5, 6, 5, 6, 4, 6, 5, 5]\n",
      "entropy: 22.39, span: 55, deltas: [5, 5, 6, 5, 6, 3, 5, 3, 6, 5, 6]\n",
      "entropy: 22.39, span: 55, deltas: [6, 5, 6, 3, 5, 3, 6, 5, 6, 5, 5]\n",
      "entropy: 22.34, span: 50, deltas: [3, 5, 3, 6, 5, 6, 3, 6, 5, 3, 5]\n",
      "entropy: 22.34, span: 50, deltas: [5, 3, 5, 6, 3, 6, 5, 6, 3, 5, 3]\n",
      "entropy: 22.34, span: 38, deltas: [3, 2, 5, 3, 5, 2, 3, 5, 3, 2, 5]\n",
      "entropy: 22.34, span: 38, deltas: [5, 2, 3, 5, 3, 2, 5, 3, 5, 2, 3]\n",
      "entropy: 22.12, span: 47, deltas: [6, 2, 5, 6, 2, 5, 2, 6, 5, 2, 6]\n",
      "entropy: 22.11, span: 57, deltas: [5, 6, 4, 5, 6, 5, 6, 5, 4, 6, 5]\n",
      "entropy: 22.04, span: 38, deltas: [5, 2, 3, 5, 3, 2, 3, 2, 3, 5, 5]\n",
      "entropy: 22.04, span: 38, deltas: [5, 2, 3, 5, 5, 3, 2, 3, 2, 3, 5]\n",
      "entropy: 22.04, span: 38, deltas: [5, 3, 2, 3, 2, 3, 5, 5, 3, 2, 5]\n",
      "entropy: 22.04, span: 38, deltas: [5, 5, 3, 2, 3, 2, 3, 5, 3, 2, 5]\n",
      "entropy: 21.97, span: 55, deltas: [5, 5, 6, 4, 6, 4, 5, 4, 6, 4, 6]\n",
      "entropy: 21.97, span: 55, deltas: [5, 6, 4, 6, 4, 5, 4, 6, 4, 6, 5]\n",
      "entropy: 21.97, span: 55, deltas: [6, 4, 6, 4, 5, 4, 6, 4, 6, 5, 5]\n",
      "entropy: 21.97, span: 47, deltas: [5, 2, 6, 2, 6, 5, 6, 2, 6, 2, 5]\n",
      "entropy: 21.89, span: 55, deltas: [5, 6, 5, 6, 3, 5, 3, 6, 5, 6, 5]\n",
      "entropy: 21.84, span: 47, deltas: [5, 2, 6, 5, 2, 6, 2, 6, 5, 6, 2]\n",
      "entropy: 21.81, span: 45, deltas: [4, 2, 5, 4, 5, 5, 4, 5, 4, 5, 2]\n",
      "entropy: 21.66, span: 55, deltas: [5, 5, 6, 5, 4, 5, 5, 4, 5, 6, 5]\n",
      "entropy: 21.66, span: 55, deltas: [5, 6, 5, 4, 5, 5, 4, 5, 6, 5, 5]\n",
      "entropy: 21.66, span: 55, deltas: [5, 6, 5, 5, 4, 5, 4, 5, 5, 6, 5]\n",
      "entropy: 21.66, span: 49, deltas: [5, 4, 5, 5, 3, 5, 3, 5, 5, 4, 5]\n",
      "entropy: 21.64, span: 53, deltas: [4, 5, 4, 5, 4, 5, 5, 6, 5, 4, 6]\n",
      "entropy: 21.64, span: 53, deltas: [6, 4, 5, 6, 5, 5, 4, 5, 4, 5, 4]\n",
      "entropy: 21.58, span: 55, deltas: [5, 5, 6, 5, 5, 4, 5, 4, 5, 5, 6]\n",
      "entropy: 21.58, span: 55, deltas: [6, 5, 5, 4, 5, 4, 5, 5, 6, 5, 5]\n",
      "entropy: 21.44, span: 57, deltas: [5, 6, 5, 4, 6, 5, 6, 5, 4, 5, 6]\n",
      "entropy: 21.44, span: 57, deltas: [6, 5, 4, 5, 6, 5, 6, 4, 5, 6, 5]\n",
      "entropy: 21.27, span: 39, deltas: [5, 3, 5, 3, 2, 3, 2, 3, 5, 3, 5]\n",
      "entropy: 21.22, span: 57, deltas: [4, 6, 5, 5, 6, 5, 6, 5, 5, 6, 4]\n",
      "entropy: 21.01, span: 33, deltas: [3, 2, 3, 2, 3, 5, 5, 3, 2, 3, 2]\n",
      "entropy: 20.12, span: 59, deltas: [6, 4, 6, 5, 6, 5, 6, 5, 6, 4, 6]\n",
      "entropy: 20.12, span: 52, deltas: [6, 2, 6, 5, 6, 2, 6, 2, 6, 5, 6]\n",
      "entropy: 20.12, span: 52, deltas: [6, 5, 6, 2, 6, 2, 6, 5, 6, 2, 6]\n",
      "entropy: 20.12, span: 34, deltas: [3, 2, 3, 5, 3, 2, 3, 2, 3, 5, 3]\n",
      "entropy: 20.12, span: 34, deltas: [3, 5, 3, 2, 3, 2, 3, 5, 3, 2, 3]\n",
      "entropy: 20.05, span: 33, deltas: [5, 3, 2, 3, 2, 3, 5, 3, 2, 3, 2]\n",
      "entropy: 19.98, span: 46, deltas: [3, 5, 3, 5, 3, 6, 5, 3, 5, 3, 5]\n",
      "entropy: 19.98, span: 46, deltas: [5, 3, 5, 3, 5, 6, 3, 5, 3, 5, 3]\n",
      "entropy: 19.98, span: 45, deltas: [6, 2, 6, 2, 6, 5, 2, 6, 2, 6, 2]\n",
      "entropy: 19.98, span: 43, deltas: [6, 2, 6, 2, 6, 3, 2, 6, 2, 6, 2]\n",
      "entropy: 19.98, span: 42, deltas: [3, 5, 3, 5, 3, 2, 5, 3, 5, 3, 5]\n",
      "entropy: 19.98, span: 42, deltas: [5, 3, 5, 3, 5, 2, 3, 5, 3, 5, 3]\n",
      "entropy: 19.62, span: 58, deltas: [4, 5, 6, 5, 6, 5, 6, 5, 5, 6, 5]\n",
      "entropy: 19.62, span: 58, deltas: [5, 6, 5, 5, 6, 5, 6, 5, 6, 5, 4]\n",
      "entropy: 19.62, span: 57, deltas: [3, 5, 6, 5, 6, 5, 5, 6, 5, 6, 5]\n",
      "entropy: 19.62, span: 57, deltas: [5, 6, 5, 6, 5, 5, 6, 5, 6, 5, 3]\n",
      "entropy: 19.62, span: 57, deltas: [6, 4, 6, 4, 6, 5, 6, 4, 6, 4, 6]\n",
      "entropy: 19.62, span: 56, deltas: [5, 6, 5, 6, 5, 6, 5, 5, 6, 5, 2]\n",
      "entropy: 19.62, span: 55, deltas: [6, 4, 6, 4, 6, 3, 6, 4, 6, 4, 6]\n",
      "entropy: 19.62, span: 49, deltas: [6, 2, 6, 2, 6, 5, 6, 2, 6, 2, 6]\n",
      "entropy: 19.62, span: 47, deltas: [6, 2, 6, 2, 6, 3, 6, 2, 6, 2, 6]\n",
      "entropy: 19.62, span: 31, deltas: [3, 2, 3, 2, 3, 5, 3, 2, 3, 2, 3]\n",
      "entropy: 17.86, span: 54, deltas: [3, 6, 5, 6, 3, 6, 5, 6, 3, 6, 5]\n",
      "entropy: 17.86, span: 54, deltas: [5, 6, 3, 6, 5, 6, 3, 6, 5, 6, 3]\n",
      "entropy: 17.76, span: 57, deltas: [6, 5, 6, 3, 6, 5, 6, 3, 6, 5, 6]\n",
      "entropy: 17.76, span: 55, deltas: [6, 3, 6, 5, 6, 3, 6, 5, 6, 3, 6]\n",
      "entropy: 17.76, span: 53, deltas: [6, 3, 6, 4, 6, 3, 6, 4, 6, 3, 6]\n",
      "entropy: 17.76, span: 49, deltas: [6, 3, 6, 2, 6, 3, 6, 2, 6, 3, 6]\n"
     ]
    }
   ],
   "source": [
    "n_intervals = 3\n",
    "selection = sorted([s for s in scales if s.n_intervals == n_intervals], key=lambda x: (x.sequence_entropy, x.span), reverse=True)\n",
    "print(len(selection))\n",
    "for s in selection:\n",
    "    print(s)"
   ]
  },
  {
   "cell_type": "code",
   "execution_count": 528,
   "id": "de8654f6-e12a-4992-a8d4-7543db97b663",
   "metadata": {},
   "outputs": [
    {
     "name": "stdout",
     "output_type": "stream",
     "text": [
      "entropy: 16.41, span: 35, deltas: [3, 3, 3, 4, 3, 3, 3, 4, 3, 3, 3]\n",
      "entropy: 18.67, span: 37, deltas: [4, 3, 3, 4, 3, 3, 3, 4, 3, 3, 4]\n",
      "entropy: 20.05, span: 39, deltas: [4, 3, 3, 4, 4, 3, 4, 4, 3, 3, 4]\n",
      "entropy: 14.31, span: 41, deltas: [4, 4, 3, 4, 4, 3, 4, 4, 3, 4, 4]\n"
     ]
    }
   ],
   "source": [
    "third_scales = [Scale(s) for s in get_scales(allowed_intervals=[3, 4])]\n",
    "for s in third_scales:\n",
    "    print(s)"
   ]
  },
  {
   "cell_type": "markdown",
   "id": "1bd2ac9e-68b7-4d47-9f3d-b9bd5f7f4536",
   "metadata": {},
   "source": [
    "### Voice leading opportunities using common notes"
   ]
  },
  {
   "cell_type": "code",
   "execution_count": 590,
   "id": "cd63c5c5-0b09-49cb-b3a8-4b590b048293",
   "metadata": {},
   "outputs": [
    {
     "name": "stdout",
     "output_type": "stream",
     "text": [
      "50 [0, 6, 11, 5, 7, 1, 3, 8, 10, 4, 9, 2]\n",
      "45 [3, 9, 11, 5, 7, 1, 6, 8, 2, 4, 10, 0]\n",
      "6 [11, 5, 7, 1, 8, 4] changes/swaps: 6/0\n",
      "\n",
      "43 [0, 5, 10, 1, 3, 8, 11, 4, 6, 9, 2, 7]\n",
      "33 [5, 8, 10, 1, 3, 6, 11, 4, 7, 9, 0, 2]\n",
      "6 [10, 1, 3, 11, 4, 9] changes/swaps: 6/0\n",
      "\n",
      "56 [0, 4, 10, 3, 7, 1, 6, 11, 5, 9, 2, 8]\n",
      "53 [3, 7, 0, 4, 9, 1, 6, 11, 5, 10, 2, 8]\n",
      "6 [1, 6, 11, 5, 2, 8] changes/swaps: 6/0\n",
      "\n",
      "57 [0, 5, 10, 4, 8, 2, 7, 1, 6, 11, 3, 9]\n",
      "53 [4, 8, 1, 5, 10, 2, 7, 0, 6, 11, 3, 9]\n",
      "6 [2, 7, 6, 11, 3, 9] changes/swaps: 6/0\n",
      "\n",
      "55 [0, 6, 11, 5, 8, 1, 4, 10, 3, 9, 2, 7]\n",
      "50 [3, 6, 11, 2, 8, 1, 7, 10, 4, 9, 0, 5]\n",
      "6 [6, 11, 8, 1, 10, 9] changes/swaps: 6/0\n",
      "\n",
      "50 [0, 3, 8, 11, 5, 10, 4, 7, 1, 6, 9, 2]\n",
      "55 [9, 3, 8, 2, 5, 10, 1, 7, 0, 6, 11, 4]\n",
      "6 [3, 8, 5, 10, 7, 6] changes/swaps: 6/0\n",
      "\n",
      "50 [0, 3, 8, 11, 5, 10, 4, 7, 1, 6, 9, 2]\n",
      "55 [9, 3, 8, 1, 5, 10, 2, 7, 0, 6, 11, 4]\n",
      "6 [3, 8, 5, 10, 7, 6] changes/swaps: 6/2\n",
      "\n",
      "45 [0, 4, 6, 11, 3, 8, 1, 5, 10, 2, 7, 9]\n",
      "55 [7, 0, 6, 11, 4, 8, 1, 5, 10, 3, 9, 2]\n",
      "6 [6, 11, 8, 1, 5, 10] changes/swaps: 6/0\n",
      "\n",
      "45 [0, 4, 6, 11, 3, 8, 1, 5, 10, 2, 7, 9]\n",
      "55 [7, 1, 6, 11, 3, 8, 0, 5, 10, 4, 9, 2]\n",
      "6 [6, 11, 3, 8, 5, 10] changes/swaps: 6/0\n",
      "\n",
      "55 [0, 5, 10, 4, 9, 1, 6, 11, 3, 8, 2, 7]\n",
      "53 [3, 7, 0, 4, 9, 1, 6, 11, 5, 10, 2, 8]\n",
      "6 [4, 9, 1, 6, 11, 2] changes/swaps: 6/0\n",
      "\n",
      "55 [0, 5, 11, 4, 9, 1, 6, 10, 3, 8, 2, 7]\n",
      "45 [5, 9, 11, 4, 8, 1, 6, 10, 3, 7, 0, 2]\n",
      "6 [11, 4, 1, 6, 10, 3] changes/swaps: 6/0\n",
      "\n",
      "53 [0, 4, 9, 1, 6, 10, 3, 8, 2, 7, 11, 5]\n",
      "56 [9, 1, 7, 0, 4, 10, 3, 8, 2, 6, 11, 5]\n",
      "6 [10, 3, 8, 2, 11, 5] changes/swaps: 6/0\n",
      "\n",
      "53 [0, 4, 9, 1, 6, 10, 3, 8, 2, 7, 11, 5]\n",
      "57 [8, 1, 6, 0, 4, 10, 3, 9, 2, 7, 11, 5]\n",
      "6 [10, 3, 2, 7, 11, 5] changes/swaps: 6/0\n",
      "\n",
      "53 [0, 4, 9, 1, 6, 10, 3, 8, 2, 7, 11, 5]\n",
      "55 [9, 2, 7, 1, 6, 10, 3, 8, 0, 5, 11, 4]\n",
      "6 [1, 6, 10, 3, 8, 11] changes/swaps: 6/0\n",
      "\n",
      "55 [0, 6, 11, 4, 8, 1, 5, 10, 3, 9, 2, 7]\n",
      "50 [3, 6, 11, 2, 8, 1, 7, 10, 4, 9, 0, 5]\n",
      "6 [6, 11, 8, 1, 10, 9] changes/swaps: 6/2\n",
      "\n",
      "55 [0, 6, 11, 4, 8, 1, 5, 10, 3, 9, 2, 7]\n",
      "45 [5, 9, 11, 4, 8, 1, 6, 10, 3, 7, 0, 2]\n",
      "6 [11, 4, 8, 1, 10, 3] changes/swaps: 6/0\n",
      "\n",
      "57 [0, 6, 11, 3, 8, 2, 7, 1, 5, 10, 4, 9]\n",
      "54 [3, 6, 0, 5, 11, 2, 8, 1, 7, 10, 4, 9]\n",
      "6 [6, 2, 1, 10, 4, 9] changes/swaps: 6/0\n",
      "\n",
      "39 [0, 5, 8, 1, 4, 6, 9, 11, 2, 7, 10, 3]\n",
      "33 [3, 8, 11, 1, 4, 6, 9, 2, 5, 7, 10, 0]\n",
      "6 [1, 4, 6, 9, 7, 10] changes/swaps: 6/2\n",
      "\n",
      "33 [0, 3, 5, 8, 10, 1, 6, 11, 2, 4, 7, 9]\n",
      "43 [7, 0, 5, 8, 10, 3, 6, 11, 1, 4, 9, 2]\n",
      "6 [5, 8, 10, 6, 11, 4] changes/swaps: 6/0\n",
      "\n",
      "52 [0, 6, 11, 5, 7, 1, 3, 9, 2, 8, 10, 4]\n",
      "45 [3, 9, 11, 5, 7, 1, 6, 8, 2, 4, 10, 0]\n",
      "6 [11, 5, 7, 1, 2, 10] changes/swaps: 6/0\n",
      "\n",
      "33 [0, 5, 8, 10, 1, 3, 6, 11, 2, 4, 7, 9]\n",
      "39 [9, 2, 5, 10, 1, 3, 6, 8, 11, 4, 7, 0]\n",
      "6 [10, 1, 3, 6, 4, 7] changes/swaps: 6/2\n",
      "\n",
      "46 [0, 3, 8, 11, 4, 7, 1, 6, 9, 2, 5, 10]\n",
      "42 [4, 7, 0, 3, 8, 11, 1, 6, 9, 2, 5, 10]\n",
      "6 [1, 6, 9, 2, 5, 10] changes/swaps: 6/0\n",
      "\n",
      "46 [0, 3, 8, 11, 4, 7, 1, 6, 9, 2, 5, 10]\n",
      "49 [9, 3, 5, 11, 1, 7, 0, 6, 8, 2, 4, 10]\n",
      "6 [3, 11, 7, 6, 2, 10] changes/swaps: 6/0\n",
      "\n",
      "46 [0, 5, 8, 1, 4, 9, 3, 6, 11, 2, 7, 10]\n",
      "42 [4, 9, 0, 5, 8, 1, 3, 6, 11, 2, 7, 10]\n",
      "6 [3, 6, 11, 2, 7, 10] changes/swaps: 6/0\n",
      "\n",
      "45 [0, 6, 8, 2, 4, 10, 3, 5, 11, 1, 7, 9]\n",
      "50 [9, 3, 8, 2, 4, 10, 0, 5, 7, 1, 6, 11]\n",
      "6 [8, 2, 4, 10, 5, 1] changes/swaps: 6/0\n",
      "\n",
      "45 [0, 6, 8, 2, 4, 10, 3, 5, 11, 1, 7, 9]\n",
      "52 [9, 3, 8, 2, 4, 10, 0, 6, 11, 5, 7, 1]\n",
      "6 [8, 2, 4, 10, 11, 7] changes/swaps: 6/0\n",
      "\n",
      "45 [0, 6, 8, 2, 4, 10, 3, 5, 11, 1, 7, 9]\n",
      "42 [3, 6, 11, 2, 7, 10, 0, 5, 8, 1, 4, 9]\n",
      "6 [6, 2, 10, 5, 1, 9] changes/swaps: 6/6\n",
      "\n",
      "42 [0, 3, 8, 11, 4, 7, 9, 2, 5, 10, 1, 6]\n",
      "46 [8, 11, 4, 7, 0, 3, 9, 2, 5, 10, 1, 6]\n",
      "6 [9, 2, 5, 10, 1, 6] changes/swaps: 6/0\n",
      "\n",
      "42 [0, 3, 8, 11, 4, 7, 9, 2, 5, 10, 1, 6]\n",
      "45 [9, 3, 5, 11, 1, 7, 0, 2, 8, 10, 4, 6]\n",
      "6 [3, 11, 7, 2, 10, 6] changes/swaps: 6/6\n",
      "\n",
      "42 [0, 5, 8, 1, 4, 9, 11, 2, 7, 10, 3, 6]\n",
      "46 [8, 1, 4, 9, 0, 5, 11, 2, 7, 10, 3, 6]\n",
      "6 [11, 2, 7, 10, 3, 6] changes/swaps: 6/0\n",
      "\n",
      "49 [0, 6, 8, 2, 4, 10, 3, 9, 11, 5, 7, 1]\n",
      "46 [3, 6, 11, 2, 7, 10, 4, 9, 0, 5, 8, 1]\n",
      "6 [6, 2, 10, 9, 5, 1] changes/swaps: 6/0\n",
      "\n",
      "54 [0, 3, 9, 2, 8, 11, 5, 10, 4, 7, 1, 6]\n",
      "57 [9, 3, 8, 0, 5, 11, 4, 10, 2, 7, 1, 6]\n",
      "6 [3, 11, 10, 7, 1, 6] changes/swaps: 6/0\n",
      "\n",
      "54 [0, 3, 9, 2, 8, 11, 5, 10, 4, 7, 1, 6]\n",
      "57 [9, 3, 8, 2, 5, 11, 4, 10, 1, 7, 0, 6]\n",
      "6 [3, 2, 11, 10, 7, 6] changes/swaps: 6/0\n",
      "\n",
      "57 [0, 6, 11, 5, 8, 2, 7, 1, 4, 10, 3, 9]\n",
      "54 [3, 6, 0, 5, 11, 2, 8, 1, 7, 10, 4, 9]\n",
      "6 [6, 5, 2, 1, 10, 9] changes/swaps: 6/0\n",
      "\n"
     ]
    }
   ],
   "source": [
    "one = Scale([3, 5, 3, 5, 3, 2, 5, 3, 5, 3, 5])\n",
    "two = Scale([4, 3, 3, 4, 4, 3, 4, 4, 3, 3, 4])\n",
    "\n",
    "min_bass_distance = 2\n",
    "n_shared_notes = 6\n",
    "\n",
    "for ss in selection:\n",
    "    for st in selection:\n",
    "        for i in range(12):\n",
    "            shifted = [(pc + i) % 12 for pc in st.pitch_classes]\n",
    "            matches = [a for a, b in zip(ss.pitch_classes, shifted) if a == b]\n",
    "            d1 = (shifted[0] - ss.pitch_classes[0]) % 12\n",
    "            d2 = (ss.pitch_classes[0] - shifted[0]) % 12\n",
    "            if (len(matches) == n_shared_notes) and (d1 > min_bass_distance) and (d2 > min_bass_distance):\n",
    "                print(ss.span, ss.pitch_classes)\n",
    "                print(st.span, shifted)\n",
    "                print(len(matches), matches, f\"changes/swaps: {12 - len(matches)}/{get_swaps(shifted, ss.pitch_classes)}\")\n",
    "                print()"
   ]
  },
  {
   "cell_type": "code",
   "execution_count": 564,
   "id": "b0c449e6-2e3c-4239-8345-4e9a0cfedb14",
   "metadata": {},
   "outputs": [
    {
     "data": {
      "text/plain": [
       "False"
      ]
     },
     "execution_count": 564,
     "metadata": {},
     "output_type": "execute_result"
    }
   ],
   "source": [
    "((-11) % 12 > 2) and (11 % 12 > 2)"
   ]
  },
  {
   "cell_type": "code",
   "execution_count": 505,
   "id": "cf6e375d-ec05-4464-98ad-c2ce13bdf891",
   "metadata": {},
   "outputs": [
    {
     "data": {
      "text/plain": [
       "(1.0, 1.5)"
      ]
     },
     "execution_count": 505,
     "metadata": {},
     "output_type": "execute_result"
    }
   ],
   "source": [
    "calculate_transition_entropy([2, 1, 2, 1, 2]), calculate_transition_entropy([2, 1, 2, 2, 1])"
   ]
  },
  {
   "cell_type": "code",
   "execution_count": 506,
   "id": "df9d5384-636a-443d-a756-9c1c9e979b14",
   "metadata": {},
   "outputs": [
    {
     "data": {
      "text/plain": [
       "(0.9709505944546686, 0.9709505944546686)"
      ]
     },
     "execution_count": 506,
     "metadata": {},
     "output_type": "execute_result"
    }
   ],
   "source": [
    "calculate_entropy([2, 1, 2, 1, 2]), calculate_entropy([2, 1, 2, 2, 1])"
   ]
  },
  {
   "cell_type": "code",
   "execution_count": 507,
   "id": "1b023535-f6cf-4ddc-918c-cde6f923ec7b",
   "metadata": {},
   "outputs": [],
   "source": [
    "def calculate_subseq_entropy(sequence, subsequence_length):\n",
    "    sub_seqs = []\n",
    "    for idx in range(len(sequence)-subsequence_length+1):\n",
    "        sub_seqs.append(tuple(sequence[idx:idx+subsequence_length]))\n",
    "    return calculate_entropy(sub_seqs)\n",
    "\n",
    "def calculate_sequence_entropy(sequence):\n",
    "    return sum(calculate_subseq_entropy(sequence, l) for l in range(len(sequence)+1))"
   ]
  },
  {
   "cell_type": "code",
   "execution_count": 508,
   "id": "5ced23ab-73ad-48b0-add7-b8b133d212ef",
   "metadata": {},
   "outputs": [
    {
     "data": {
      "text/plain": [
       "(3.889246428509158, 5.055913095175825)"
      ]
     },
     "execution_count": 508,
     "metadata": {},
     "output_type": "execute_result"
    }
   ],
   "source": [
    "calculate_sequence_entropy([2,1,2,1,2]), calculate_sequence_entropy([2,1,2,2,1])"
   ]
  },
  {
   "cell_type": "code",
   "execution_count": 582,
   "id": "a2531460-d740-41eb-a26d-e4176a620be1",
   "metadata": {},
   "outputs": [
    {
     "data": {
      "text/plain": [
       "6"
      ]
     },
     "execution_count": 582,
     "metadata": {},
     "output_type": "execute_result"
    }
   ],
   "source": [
    "def get_swaps(xs, ys):\n",
    "    none_matches = [(a, b) for a, b in zip (xs, ys) if a != b]\n",
    "    swaps = []\n",
    "    for item in none_matches:\n",
    "        if tuple(item[::-1]) in none_matches:\n",
    "            swaps.append(item)\n",
    "    \n",
    "    return len(swaps)\n",
    "\n",
    "get_swaps([0, 3, 8, 11, 4, 7, 9, 2, 5, 10, 1, 6], [9, 3, 5, 11, 1, 7, 0, 2, 8, 10, 4, 6])"
   ]
  },
  {
   "cell_type": "code",
   "execution_count": null,
   "id": "3dd069c0-3a47-4a55-9f56-5b26b228fcd1",
   "metadata": {},
   "outputs": [],
   "source": []
  }
 ],
 "metadata": {
  "kernelspec": {
   "display_name": "Python 3 (ipykernel)",
   "language": "python",
   "name": "python3"
  },
  "language_info": {
   "codemirror_mode": {
    "name": "ipython",
    "version": 3
   },
   "file_extension": ".py",
   "mimetype": "text/x-python",
   "name": "python",
   "nbconvert_exporter": "python",
   "pygments_lexer": "ipython3",
   "version": "3.13.1"
  }
 },
 "nbformat": 4,
 "nbformat_minor": 5
}
