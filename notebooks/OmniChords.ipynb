{
 "cells": [
  {
   "cell_type": "markdown",
   "id": "7bcbc903-278f-411a-a512-c8594aea30b1",
   "metadata": {},
   "source": [
    "# Cahos"
   ]
  },
  {
   "cell_type": "code",
   "execution_count": 3,
   "id": "7d1b7e60-2322-457e-9652-f57d1dafcd22",
   "metadata": {},
   "outputs": [],
   "source": [
    "from itertools import accumulate"
   ]
  },
  {
   "cell_type": "code",
   "execution_count": 32,
   "id": "dd20f002-b485-444a-9033-86964b69707e",
   "metadata": {},
   "outputs": [],
   "source": [
    "diminished = [3, 3, 3, 4, 3, 3, 3, 4, 3, 3, 3]  # e+, b+\n",
    "minor      = [4, 3, 3, 4, 3, 3, 3, 4, 3, 3, 4]  # c+, d, e, f+, g, g+, a, b (like a major or f+ major)\n",
    "major      = [4, 3, 3, 4, 4, 3, 4, 4, 3, 3, 4]  # c, d-, e-, f, g-, a-, b- (like d- major)\n",
    "augmented  = [4, 4, 3, 4, 4, 3, 4, 4, 3, 4, 4]  # Not Really c-, f-"
   ]
  },
  {
   "cell_type": "markdown",
   "id": "0a8d242c-ab2d-4c84-9a4d-c3cf0b1763f5",
   "metadata": {
    "jp-MarkdownHeadingCollapsed": true
   },
   "source": [
    "## Clean scales"
   ]
  },
  {
   "cell_type": "code",
   "execution_count": 29,
   "id": "2e31b7dd-1898-4bda-ac62-c317a7f6b52a",
   "metadata": {},
   "outputs": [],
   "source": [
    "diatonic = [\"c\", \"d\", \"e\", \"f\", \"g\", \"a\", \"b\"]\n",
    "chromatic = [(\"c\", \"b+\"), (\"c+\", \"d-\"), (\"d\",), (\"d+\", \"e-\"), (\"e\", \"f-\"), (\"f\", \"e+\"), (\"f+\", \"g-\"), (\"g\",), (\"g+\", \"a-\"), (\"a\",), (\"a+\", \"b-\"), (\"b\", \"c-\")]"
   ]
  },
  {
   "cell_type": "code",
   "execution_count": 33,
   "id": "747bc9e8-580a-42be-a62e-2941a7983b66",
   "metadata": {},
   "outputs": [
    {
     "name": "stdout",
     "output_type": "stream",
     "text": [
      "[('c', 'b+'), ('d+', 'e-'), ('f+', 'g-'), ('a',), ('c+', 'd-'), ('e', 'f-'), ('g',), ('a+', 'b-'), ('d',), ('f', 'e+'), ('g+', 'a-'), ('b', 'c-')]\n",
      "[('c+', 'd-'), ('e', 'f-'), ('g',), ('a+', 'b-'), ('d',), ('f', 'e+'), ('g+', 'a-'), ('b', 'c-'), ('d+', 'e-'), ('f+', 'g-'), ('a',), ('c', 'b+')]\n",
      "[('d',), ('f', 'e+'), ('g+', 'a-'), ('b', 'c-'), ('d+', 'e-'), ('f+', 'g-'), ('a',), ('c', 'b+'), ('e', 'f-'), ('g',), ('a+', 'b-'), ('c+', 'd-')]\n",
      "[('d+', 'e-'), ('f+', 'g-'), ('a',), ('c', 'b+'), ('e', 'f-'), ('g',), ('a+', 'b-'), ('c+', 'd-'), ('f', 'e+'), ('g+', 'a-'), ('b', 'c-'), ('d',)]\n",
      "[('e', 'f-'), ('g',), ('a+', 'b-'), ('c+', 'd-'), ('f', 'e+'), ('g+', 'a-'), ('b', 'c-'), ('d',), ('f+', 'g-'), ('a',), ('c', 'b+'), ('d+', 'e-')]\n",
      "[('f', 'e+'), ('g+', 'a-'), ('b', 'c-'), ('d',), ('f+', 'g-'), ('a',), ('c', 'b+'), ('d+', 'e-'), ('g',), ('a+', 'b-'), ('c+', 'd-'), ('e', 'f-')]\n",
      "[('f+', 'g-'), ('a',), ('c', 'b+'), ('d+', 'e-'), ('g',), ('a+', 'b-'), ('c+', 'd-'), ('e', 'f-'), ('g+', 'a-'), ('b', 'c-'), ('d',), ('f', 'e+')]\n",
      "[('g',), ('a+', 'b-'), ('c+', 'd-'), ('e', 'f-'), ('g+', 'a-'), ('b', 'c-'), ('d',), ('f', 'e+'), ('a',), ('c', 'b+'), ('d+', 'e-'), ('f+', 'g-')]\n",
      "[('g+', 'a-'), ('b', 'c-'), ('d',), ('f', 'e+'), ('a',), ('c', 'b+'), ('d+', 'e-'), ('f+', 'g-'), ('a+', 'b-'), ('c+', 'd-'), ('e', 'f-'), ('g',)]\n",
      "[('a',), ('c', 'b+'), ('d+', 'e-'), ('f+', 'g-'), ('a+', 'b-'), ('c+', 'd-'), ('e', 'f-'), ('g',), ('b', 'c-'), ('d',), ('f', 'e+'), ('g+', 'a-')]\n",
      "[('a+', 'b-'), ('c+', 'd-'), ('e', 'f-'), ('g',), ('b', 'c-'), ('d',), ('f', 'e+'), ('g+', 'a-'), ('c', 'b+'), ('d+', 'e-'), ('f+', 'g-'), ('a',)]\n",
      "[('b', 'c-'), ('d',), ('f', 'e+'), ('g+', 'a-'), ('c', 'b+'), ('d+', 'e-'), ('f+', 'g-'), ('a',), ('c+', 'd-'), ('e', 'f-'), ('g',), ('a+', 'b-')]\n"
     ]
    }
   ],
   "source": [
    "chords = []\n",
    "for idx in range(12):\n",
    "    chord = list(accumulate(diminished, lambda a, b: (a + b) % 12, initial=idx))\n",
    "    print([chromatic[c] for c in chord])"
   ]
  },
  {
   "cell_type": "markdown",
   "id": "b2c8ab6d-e0a9-4140-ac24-c208ee00b841",
   "metadata": {},
   "source": [
    "### diminished\n",
    "- `e+ g+ b  d f+ a c e- g b- d- f- (3+ 4-)`\n",
    "- `b+ d+ f+ a c+ e g b- d f  a- c- (4+ 3-)`"
   ]
  },
  {
   "cell_type": "markdown",
   "id": "19694029-dc3f-4c11-8834-dbfff79aee45",
   "metadata": {},
   "source": [
    "### minors\n",
    "\n",
    "- `c+ e+ g+ b  d+ f+ a  c  e  g  b- d  (5+ 1-)`\n",
    "- `d  f+ a  c  e  g  b- d- f  a- c- e- (1+ 5-)`\n",
    "- `e  g+ b  d  f+ a  c  e- g  b- d- f  (2+ 3-)`\n",
    "- `f+ a+ c+ e  g+ b  d  f  a  c  e- g  (4+ 1-)`\n",
    "- `g  b  d  f  a  c  e- g- b- d- f- a- (6-   )`\n",
    "- `g+ b+ d+ f+ a+ c+ e  g  b  d  f  a  (6+   )`\n",
    "- `a  c+ e  g  b  d  f  a- c  e- g- b- (1+ 4-)`\n",
    "- `b  d+ f+ a  c+ e  g  b- d  f  a- c  (3+ 2-)`\n",
    "\n",
    "d major / a major"
   ]
  },
  {
   "cell_type": "markdown",
   "id": "16c5864c-5b53-46c6-9404-ac92b5a25431",
   "metadata": {
    "jp-MarkdownHeadingCollapsed": true
   },
   "source": [
    "### majors\n",
    "\n",
    "- `c  e  g  b- d  f+ a  c+ e+ g+ b d+ (5+ 1-)`\n",
    "- `d- f  a- c- e- g  b- d  f+ a  c e  (1+ 5-)`\n",
    "- `e- g  b- d- f  a  c  e  g+ b  d f+ (2+ 3-)`\n",
    "- `f  a  c  e- g  b  d  f+ a+ c+ e g+ (4+ 1-)`\n",
    "- `g- b- d- f- a- c  e- g  b  d  f a  (6-   )`\n",
    "- `a- c  e- g- b- d  f  a  c+ e  g b  (1+ 4-)`\n",
    "- `b- d  f  a- c  e  g  b  d+ f+ a c+ (3+ 2-)`\n",
    "\n",
    "d- major"
   ]
  },
  {
   "cell_type": "markdown",
   "id": "67b84f50-85f5-40f0-991c-63a0bd78f466",
   "metadata": {
    "jp-MarkdownHeadingCollapsed": true
   },
   "source": [
    "### Melody\n",
    "\n",
    "- `g- b- d- f- a- c  e- g  b  d  f  a  (6-   )`\n",
    "- `g  b  d  f  a  c  e- g- b- d- f- a- (6-   )`\n",
    "- `b- d  f  a- c  e  g  b  d+ f+ a  c+ (3+ 2-)`\n",
    "- `a  c+ e  g  b  d  f  a- c  e- g- b- (1+ 4-)`\n",
    "- `f+ a+ c+ e  g+ b  d  f  a  c  e- g  (4+ 1-)`\n",
    "- `g  b  d  f  a  c  e- g- b- d- f- a- (6-   )`\n",
    "- `f  a  c  e- g  b  d  f+ a+ c+ e  g+ (4+ 1-)`\n",
    "- `g- b- d- f- a- c  e- g  b  d  f  a  (6-   )`"
   ]
  },
  {
   "cell_type": "markdown",
   "id": "fe9110b9-59c7-4284-80b4-8d0d111110b7",
   "metadata": {},
   "source": [
    "### Melody 2\n",
    "\n",
    "- `g  b  d  f  a  c  e- g- b- d- f- a- (6-   )`\n",
    "- `g- b- d- f- a- c  e- g  b  d  f  a  (6-   )`\n",
    "- \n",
    "- `c+ e+ g+ b  d+ f+ a  c  e  g  b- d  (5+ 1-)`\n",
    "- `c  e  g  b- d  f+ a  c+ e+ g+ b  d+ (5+ 1-)`\n",
    "- \n",
    "- `d  f+ a  c  e  g  b- d- f  a- c- e- (1+ 5-)`\n",
    "- `d- f  a- c- e- g  b- d  f+ a  c  e  (1+ 5-)`\n",
    "- \n",
    "- `e  g+ b  d  f+ a  c  e- g  b- d- f  (2+ 3-)`\n",
    "- `e- g  b- d- f  a  c  e  g+ b  d  f+ (2+ 3-)`\n",
    "- \n",
    "- `f+ a+ c+ e  g+ b  d  f  a  c  e- g  (4+ 1-)`\n",
    "- `f  a  c  e- g  b  d  f+ a+ c+ e  g+ (4+ 1-)`\n",
    "- \n",
    "- `a  c+ e  g  b  d  f  a- c  e- g- b- (1+ 4-)`\n",
    "- `a- c  e- g- b- d  f  a  c+ e  g  b  (1+ 4-)`\n",
    "- \n",
    "- `b  d+ f+ a  c+ e  g  b- d  f  a- c  (3+ 2-)`\n",
    "- `b- d  f  a- c  e  g  b  d+ f+ a  c+ (3+ 2-)`\n",
    "- \n",
    "- `g+ b+ d+ f+ a+ c+ e  g  b  d  f  a  (6+   )`"
   ]
  },
  {
   "cell_type": "markdown",
   "id": "152d4d77-d56d-4ec8-a62e-68fa72ec9e61",
   "metadata": {},
   "source": [
    "### Melody 3\n",
    "- `e+ g+ b  d  f+ a  c  e- g  b- d- f- (3+ 4-)`\n",
    "- `e  g+ b  d  f+ a  c  e- g  b- d- f  (2+ 3-)`\n",
    "- `f+ a+ c+ e  g+ b  d  f  a  c  e- g  (4+ 1-)`\n",
    "- `e- g  b- d- f  a  c  e  g+ b  d  f+ (2+ 3-)`\n",
    "- `f  a  c  e- g  b  d  f+ a+ c+ e  g+ (4+ 1-)`\n",
    "-\n",
    "- `b+ d+ f+ a  c+ e  g  b- d  f  a- c- (4+ 3-)`\n",
    "- `a  c+ e  g  b  d  f  a- c  e- g- b- (1+ 4-)`\n",
    "- `b  d+ f+ a  c+ e  g  b- d  f  a- c  (3+ 2-)`\n",
    "- `a- c  e- g- b- d  f  a  c+ e  g  b  (1+ 4-)`\n",
    "- `b- d  f  a- c  e  g  b  d+ f+ a  c+ (3+ 2-)`"
   ]
  },
  {
   "cell_type": "markdown",
   "id": "bcd79ad2-b52d-4eb0-a3a1-963ba45bcd35",
   "metadata": {},
   "source": [
    "## All scales"
   ]
  },
  {
   "cell_type": "code",
   "execution_count": null,
   "id": "ac96caf2-05a0-4b8b-9f6d-a129e4b1fd5b",
   "metadata": {},
   "outputs": [],
   "source": []
  }
 ],
 "metadata": {
  "kernelspec": {
   "display_name": "Python 3 (ipykernel)",
   "language": "python",
   "name": "python3"
  },
  "language_info": {
   "codemirror_mode": {
    "name": "ipython",
    "version": 3
   },
   "file_extension": ".py",
   "mimetype": "text/x-python",
   "name": "python",
   "nbconvert_exporter": "python",
   "pygments_lexer": "ipython3",
   "version": "3.13.1"
  }
 },
 "nbformat": 4,
 "nbformat_minor": 5
}
