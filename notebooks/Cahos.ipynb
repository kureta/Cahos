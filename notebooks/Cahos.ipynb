{
 "cells": [
  {
   "cell_type": "code",
   "execution_count": null,
   "id": "6d1509e1-4475-4ac6-9584-fe467481cbf2",
   "metadata": {},
   "outputs": [],
   "source": [
    "from pathlib import Path\n",
    "import sys\n",
    "\n",
    "def find_file_upwards(filename, start_path='.'):\n",
    "    current_path = Path(start_path).resolve()\n",
    "\n",
    "    for parent in [current_path] + list(current_path.parents):\n",
    "        if (parent / filename).exists():\n",
    "            return parent\n",
    "    return None\n",
    "\n",
    "ROOT_PATH = find_file_upwards(\"pyproject.toml\")\n",
    "sys.path.append(str(ROOT_PATH))"
   ]
  },
  {
   "cell_type": "code",
   "execution_count": null,
   "id": "ad25a3b2-9b9e-425f-9744-aa93f292fb53",
   "metadata": {},
   "outputs": [],
   "source": [
    "from cahos import Scale, scale_schema, VoiceLeading, voice_leading_schema, get_scales, make_scale, make_voice_leading\n",
    "import polars as pl\n",
    "import mido\n",
    "from dataclasses import dataclass\n",
    "from typing import Tuple\n",
    "from operator import ge, le, and_, or_, eq\n",
    "import numpy as np\n",
    "from multiprocessing import Pool\n",
    "from functools import reduce, partial"
   ]
  },
  {
   "cell_type": "code",
   "execution_count": null,
   "id": "5c79ee50-cd4d-487f-b404-459d62dc52cd",
   "metadata": {},
   "outputs": [],
   "source": [
    "load_saved = True\n",
    "data_dir = Path(ROOT_PATH).joinpath(\"data\")\n",
    "data_dir.mkdir(exist_ok=True)\n",
    "saved_path = data_dir / \"base_chords.parquet\""
   ]
  },
  {
   "cell_type": "code",
   "execution_count": null,
   "id": "bcc99c7d-85ef-4ce0-b421-5d329844840f",
   "metadata": {},
   "outputs": [],
   "source": [
    "if load_saved and saved_path.exists():\n",
    "    base_chords = pl.read_parquet(saved_path)\n",
    "else:\n",
    "    max_span = 68\n",
    "    allowed_intervals = [1, 2, 3, 4, 5, 6, 7]\n",
    "    disallowed_beginnings = [1]\n",
    "    disallowed_subsequences = [\n",
    "        [1, 2], [2, 1], [3, 1],\n",
    "        # [3, 4], [4, 3],\n",
    "        [6, 1], [1, 6], [5, 1], [1, 5],\n",
    "        [1, 1], [2, 2],  # [3, 3], [4, 4],\n",
    "        [5, 5, 5], [6, 6, 6], [7, 7, 7]\n",
    "    ]\n",
    "    \n",
    "    base_chords = pl.DataFrame(\n",
    "        data=(s for s in get_scales(\n",
    "            allowed_intervals=allowed_intervals,\n",
    "            disallowed_subsequences=disallowed_subsequences,\n",
    "            disallowed_beginnings=disallowed_beginnings,\n",
    "            max_span=max_span)\n",
    "        ),\n",
    "        schema=scale_schema\n",
    "    )\n",
    "\n",
    "    base_chords.write_parquet(saved_path, compression=\"zstd\")\n",
    "\n",
    "print(len(base_chords))"
   ]
  },
  {
   "cell_type": "code",
   "execution_count": null,
   "id": "c272d80a-249f-4226-8807-bba6d87b8a79",
   "metadata": {},
   "outputs": [],
   "source": [
    "selection = base_chords.filter(\n",
    "    pl.col(\"n_unique_intervals\") == 3,\n",
    "    pl.col(\"span\") >= 44,\n",
    "    # pl.col(\"entropy\") >= 1.4,\n",
    "    # pl.col(\"sequence_entropy\") >= 20.0\n",
    ").sort([\"sequence_entropy\", \"entropy\", \"span\"], descending=True)\n",
    "\n",
    "print(len(selection))"
   ]
  },
  {
   "cell_type": "code",
   "execution_count": null,
   "id": "caf30f1b-fa54-4c25-b726-bd77c7e356e6",
   "metadata": {},
   "outputs": [],
   "source": [
    "chord_pairs = selection.join(selection, how=\"cross\").filter(pl.col(\"intervals\") != pl.col(\"intervals_right\"))\n",
    "\n",
    "print(len(chord_pairs))"
   ]
  },
  {
   "cell_type": "code",
   "execution_count": null,
   "id": "8d7f3027-a5c1-48c0-a343-d4e46471ea95",
   "metadata": {},
   "outputs": [],
   "source": [
    "n_shared_notes = 5\n",
    "upper_limit = 102\n",
    "lower_limit = 40\n",
    "min_motion_balance = 3/4\n",
    "max_n_swaps = 0\n",
    "max_step_size = 6\n",
    "n_pseudo_changes = 0\n",
    "\n",
    "b1 = 40\n",
    "b2 = 40\n",
    "\n",
    "preds = [\n",
    "    lambda vl: vl.n_pseudo_changes == n_pseudo_changes,\n",
    "    lambda vl: vl.n_common_notes == n_shared_notes,\n",
    "    lambda vl: vl.max_step_size <= max_step_size,\n",
    "    lambda vl: vl.n_swaps <= max_n_swaps,\n",
    "    lambda vl: vl.motion_balance >= min_motion_balance,\n",
    "    lambda vl: max(vl.midis_a) <= upper_limit,\n",
    "    lambda vl: max(vl.midis_b) <= upper_limit,\n",
    "    lambda vl: min(vl.midis_a) >= lower_limit,\n",
    "    lambda vl: min(vl.midis_b) >= lower_limit\n",
    "]\n",
    "\n",
    "def select(row):\n",
    "    vl = make_voice_leading(row[\"intervals\"], b1, row[\"intervals_right\"], b2)\n",
    "    if reduce(and_, (func(vl) for func in preds), True):\n",
    "        return vl\n",
    "\n",
    "with Pool(8) as p:\n",
    "    voice_leading_opportunities = p.map(select, chord_pairs.iter_rows(named=True))\n",
    "\n",
    "voice_leading = pl.DataFrame((vl for vl in voice_leading_opportunities if vl is not None), schema=voice_leading_schema)\n",
    "print(len(voice_leading))"
   ]
  },
  {
   "cell_type": "markdown",
   "id": "02546c94-df23-4843-8c66-365bcceeac19",
   "metadata": {},
   "source": [
    "# TODOs\n",
    "\n",
    "- [ ] create a Phrase or Passage or Line or something class to store a string of chord motions\n",
    "- [ ] put in instrument ranges and track numbers, program change message to set instruments\n",
    "- [ ] generate midi messages into appropriate tracks, some tracks may have multiple voices while others have none\n",
    "- [ ] put in a switch to treat bass as octave lower (midi 35 will be converted to midi 23) can also move all the others up an octave"
   ]
  },
  {
   "cell_type": "code",
   "execution_count": null,
   "id": "fd26565d-14f4-4d73-b9bd-621668bc8db2",
   "metadata": {},
   "outputs": [],
   "source": [
    "@dataclass\n",
    "class Instrument:\n",
    "    name: str\n",
    "    program: int\n",
    "    register: Tuple[int, int]\n",
    "\n",
    "piccolo = Instrument(\"Piccolo\", 72, (74, 102))\n",
    "flute = Instrument(\"Flute\", 73, (60, 96))\n",
    "oboe = Instrument(\"Oboe\", 68, (58, 91))\n",
    "clarinet = Instrument(\"Clarinet\", 71, (50, 94))\n",
    "bass_clarinet = Instrument(\"Bass Clarinet\", 71, (38, 77))\n",
    "horn = Instrument(\"Horn\", 59, (34, 77))\n",
    "trombone = Instrument(\"Trombone\", 59, (40, 72))\n",
    "violin = Instrument(\"Violin\", 44, (55, 103))\n",
    "viola = Instrument(\"Viola\", 44, (48, 91))\n",
    "cello = Instrument(\"Violoncello\", 44, (36, 76))\n",
    "contrabass = Instrument(\"Contrabass\", 44, (28, 67))\n",
    "\n",
    "ensemble = [piccolo, violin, flute, violin, oboe, viola, clarinet, bass_clarinet, horn, trombone, cello, contrabass]"
   ]
  },
  {
   "cell_type": "code",
   "execution_count": null,
   "id": "b628e2af-3053-4a84-b785-03452bdba47b",
   "metadata": {},
   "outputs": [],
   "source": [
    "line = [voice_leading.sample(1).rows(named=True)[0]]"
   ]
  },
  {
   "cell_type": "code",
   "execution_count": null,
   "id": "115574f3-9ae2-48de-ae3f-8059e5c6a73c",
   "metadata": {},
   "outputs": [],
   "source": [
    "different = 3\n",
    "in_n = 5\n",
    "\n",
    "prev_len = 0\n",
    "while prev_len != len(line):\n",
    "    prev_len = len(line)\n",
    "    for row in voice_leading.iter_rows(named=True):\n",
    "        if (line[-1][\"midis_b\"] == row[\"midis_a\"]) and (row not in line):\n",
    "            if len(line) >= in_n:\n",
    "                tuples = zip(*[line[idx][\"midis_b\"][1:] for idx in range(-in_n, 0)], row[\"midis_b\"][1:])\n",
    "                condition = any(len(set(tp)) < different for tp in tuples)\n",
    "                if condition: continue\n",
    "            line.append(row)\n",
    "    \n",
    "print(len(line))"
   ]
  },
  {
   "cell_type": "code",
   "execution_count": null,
   "id": "204df6b7-5b58-4806-9aa7-6115a496eabb",
   "metadata": {},
   "outputs": [],
   "source": [
    "mid = mido.MidiFile()\n",
    "mid.ticks_per_beat = 480\n",
    "tracks = [mido.MidiTrack() for _ in range(12)]\n",
    "for t in tracks:\n",
    "    mid.tracks.append(t)\n",
    "\n",
    "did_name = False\n",
    "for entry in line:\n",
    "    entry[\"midis_a\"][0] -= 12\n",
    "    entry[\"midis_b\"][0] -= 12\n",
    "    if not did_name:\n",
    "        for t, m, i in zip(mid.tracks, entry[\"midis_a\"][::-1], ensemble):\n",
    "            t.append(mido.MetaMessage('track_name', name=i.name, time=0))\n",
    "            t.append(mido.Message('program_change', program=i.program, time=0))\n",
    "            did_name = True\n",
    "            while m < i.register[0]:\n",
    "                m += 12\n",
    "                print(f\"raised octave for {i.name}\")\n",
    "            while m > i.register[1]:\n",
    "                m -= 12\n",
    "                print(f\"lowered octave for {i.name}\")\n",
    "            t.append(mido.Message('note_on', note=m, velocity=64, time=0))\n",
    "            t.append(mido.Message('note_off', note=m, velocity=127, time=480*4))\n",
    "    \n",
    "    for t, m, i in zip(mid.tracks, entry[\"midis_b\"][::-1], ensemble):\n",
    "        while m < i.register[0]:\n",
    "            m += 12\n",
    "            print(f\"raised octave for {i.name}\")\n",
    "        while m > i.register[1]:\n",
    "            m -= 12\n",
    "            print(f\"lowered octave for {i.name}\")\n",
    "        t.append(mido.Message('note_on', note=m, velocity=64, time=0))\n",
    "        t.append(mido.Message('note_off', note=m, velocity=127, time=480*4))\n",
    "    \n",
    "mid.save('/home/kureta/Downloads/new_song.mid')"
   ]
  },
  {
   "cell_type": "code",
   "execution_count": null,
   "id": "7558205a-fe1f-4522-9798-a27abc9808fa",
   "metadata": {},
   "outputs": [],
   "source": []
  }
 ],
 "metadata": {
  "kernelspec": {
   "display_name": "Python 3 (ipykernel)",
   "language": "python",
   "name": "python3"
  },
  "language_info": {
   "codemirror_mode": {
    "name": "ipython",
    "version": 3
   },
   "file_extension": ".py",
   "mimetype": "text/x-python",
   "name": "python",
   "nbconvert_exporter": "python",
   "pygments_lexer": "ipython3",
   "version": "3.13.1"
  }
 },
 "nbformat": 4,
 "nbformat_minor": 5
}
