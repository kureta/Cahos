{
 "cells": [
  {
   "cell_type": "code",
   "execution_count": null,
   "id": "ad25a3b2-9b9e-425f-9744-aa93f292fb53",
   "metadata": {},
   "outputs": [],
   "source": [
    "from cahos import Scale, VoiceLeading, get_scales, make_scale, make_voice_leading\n",
    "import polars as pl"
   ]
  },
  {
   "cell_type": "code",
   "execution_count": null,
   "id": "c2ff7ada-de39-4dc0-9df1-1e3f69c1dca1",
   "metadata": {},
   "outputs": [],
   "source": [
    "dis_subseq = [\n",
    "    [1, 2], [2, 1], [3, 1],\n",
    "    # [3, 4], [4, 3],\n",
    "    [6, 1], [1, 6], [5, 1], [1, 5],\n",
    "    [1, 1], [2, 2],  # [3, 3], [4, 4],\n",
    "    [5, 5, 5], [6, 6, 6], [7, 7, 7],\n",
    "]\n",
    "\n",
    "# 80 is the maximum span we can get with the Cahos ensemble\n",
    "# Will drop bass by an octave, hence `-12`\n",
    "base_chords = [s for s in get_scales(\n",
    "    allowed_intervals=[1, 2, 3, 4, 5, 6, 7],\n",
    "    disallowed_subsequences=dis_subseq,\n",
    "    disallowed_beginnings=[],\n",
    "    max_span=80-12\n",
    ")]\n",
    "\n",
    "print(f\"number of scales satisfying given constraints: {len(base_chords)}\")"
   ]
  },
  {
   "cell_type": "code",
   "execution_count": null,
   "id": "b89de07e-ec3e-4294-bfbd-4334a80e1790",
   "metadata": {},
   "outputs": [],
   "source": [
    "df_base_chords = pl.DataFrame(base_chords)\n",
    "print(df_base_chords)"
   ]
  },
  {
   "cell_type": "code",
   "execution_count": null,
   "id": "249904e3-2bbd-45f2-b46a-4e297ceb6191",
   "metadata": {},
   "outputs": [],
   "source": [
    "df_selection = df_base_chords.filter(\n",
    "    pl.col(\"n_unique_intervals\") == 3\n",
    ").sort([\"sequence_entropy\", \"entropy\", \"span\"], descending=True)\n",
    "print(df_selection)"
   ]
  },
  {
   "cell_type": "code",
   "execution_count": null,
   "id": "30551040-9e26-4374-9243-99f4cf1b8fc5",
   "metadata": {},
   "outputs": [],
   "source": [
    "n_shared_notes = 5\n",
    "\n",
    "b1 = 40\n",
    "b2 = 42\n",
    "voice_leading_opportunities = []\n",
    "for c1 in df_selection.rows():\n",
    "    for c2 in df_selection.rows():\n",
    "        vl = make_voice_leading(c1[0], b1, c2[0], b2)\n",
    "        if max(vl.midis_a + vl.midis_b) > 108 or min(vl.midis_a + vl.midis_b) < 28 or vl.motion_balance < 3/4 or vl.n_swaps > 0:\n",
    "            continue\n",
    "        if vl.n_common_notes == n_shared_notes and vl.max_step_size < 3 and vl.n_pseudo_changes == 0:\n",
    "            voice_leading_opportunities.append(vl)"
   ]
  },
  {
   "cell_type": "code",
   "execution_count": null,
   "id": "b8347ce4-6b04-4ff4-b58c-fedd64a61bb3",
   "metadata": {},
   "outputs": [],
   "source": [
    "df_vl = pl.DataFrame(voice_leading_opportunities)\n",
    "print(df_vl)"
   ]
  },
  {
   "cell_type": "code",
   "execution_count": null,
   "id": "9334c400-ae1a-4b22-8f54-57fe279297ab",
   "metadata": {},
   "outputs": [],
   "source": []
  }
 ],
 "metadata": {
  "kernelspec": {
   "display_name": "Python 3 (ipykernel)",
   "language": "python",
   "name": "python3"
  },
  "language_info": {
   "codemirror_mode": {
    "name": "ipython",
    "version": 3
   },
   "file_extension": ".py",
   "mimetype": "text/x-python",
   "name": "python",
   "nbconvert_exporter": "python",
   "pygments_lexer": "ipython3",
   "version": "3.13.1"
  }
 },
 "nbformat": 4,
 "nbformat_minor": 5
}
